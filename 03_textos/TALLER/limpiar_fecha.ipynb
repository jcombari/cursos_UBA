{
 "cells": [
  {
   "cell_type": "code",
   "execution_count": 22,
   "metadata": {},
   "outputs": [],
   "source": [
    " def limpiar(st):    \n",
    "        import re\n",
    "        p1 = r\"((\\d+)\\s(bc|ac)\\s)\"\n",
    "        p2 = r\"((\\d+)\\s(bc|ac))$\"\n",
    "        patron = re.compile(\"|\".join([p1,p2]),re.IGNORECASE)\n",
    "        for i in range(len(st)):\n",
    "            #print(\"ciclo\",i)\n",
    "            #print(st)\n",
    "            if re.search(p1 , st[i:] , re.IGNORECASE):\n",
    "                var = patron.search(st[i:] , re.IGNORECASE)\n",
    "                print(var,len(var[1].strip()),var[1],\"|\",var[2],\"|\",var[3])\n",
    "                new = \"\".join([var[2],var[3]])\n",
    "                st  = st.replace(var[1].strip(),new,1)\n",
    "                #print(st)\n",
    "        return st"
   ]
  },
  {
   "cell_type": "code",
   "execution_count": 23,
   "metadata": {},
   "outputs": [
    {
     "name": "stdout",
     "output_type": "stream",
     "text": [
      "<re.Match object; span=(12, 19), match='550 bc '> 6 550 bc  | 550 | bc\n",
      "<re.Match object; span=(21, 29), match='1500 Ac '> 7 1500 Ac  | 1500 | Ac\n"
     ]
    },
    {
     "data": {
      "text/plain": [
       "'in the year 550bc and 1500Ac '"
      ]
     },
     "execution_count": 23,
     "metadata": {},
     "output_type": "execute_result"
    }
   ],
   "source": [
    "limpiar(\"in the year 550 bc and 1500 Ac \")"
   ]
  },
  {
   "cell_type": "code",
   "execution_count": 24,
   "metadata": {},
   "outputs": [
    {
     "name": "stdout",
     "output_type": "stream",
     "text": [
      "<re.Match object; span=(8, 14), match='15 BC '> 5 15 BC  | 15 | BC\n",
      "<re.Match object; span=(12, 18), match='15 bc '> 5 15 bc  | 15 | bc\n",
      "<re.Match object; span=(10, 16), match='15 bc '> 5 15 bc  | 15 | bc\n",
      "<re.Match object; span=(21, 27), match='15 AC '> 5 15 AC  | 15 | AC\n"
     ]
    },
    {
     "data": {
      "text/plain": [
       "'15bcca 15BC 15bc 15 acc 15AC 15 ac'"
      ]
     },
     "execution_count": 24,
     "metadata": {},
     "output_type": "execute_result"
    }
   ],
   "source": [
    "limpiar(\"15 bcca 15 BC 15 bc 15 acc 15 AC 15 ac\")"
   ]
  },
  {
   "cell_type": "code",
   "execution_count": 18,
   "metadata": {},
   "outputs": [
    {
     "data": {
      "text/plain": [
       "'15 ac'"
      ]
     },
     "execution_count": 18,
     "metadata": {},
     "output_type": "execute_result"
    }
   ],
   "source": [
    "limpiar(\"15 ac\")"
   ]
  },
  {
   "cell_type": "code",
   "execution_count": 156,
   "metadata": {},
   "outputs": [],
   "source": [
    "def limpiar_edad(st):\n",
    "    if type(st) == str: \n",
    "        st = st.split()\n",
    "    if type(st) not in {list,tuple}: return st\n",
    "    res = []\n",
    "    for i in range(len(st)-1):\n",
    "        if st[i].isdecimal() and ( st[i+1].lower() == \"ad\" or \n",
    "                                   st[i+1].lower() == \"bc\" or \n",
    "                                   st[i+1].lower() == \"ac\" or \n",
    "                                   st[i+1].lower() == \"dc\" ):\n",
    "            res.append(\"\".join([st[i],st[i+1]]))\n",
    "        elif st[i] not in res and st[i].lower() not in {\"ad\",\"bc\",\"ac\",\"dc\"}:\n",
    "            res.append(st[i])\n",
    "    if st[-1] not in res  and st[-1].lower() not in {\"ad\",\"bc\",\"ac\",\"dc\"}: \n",
    "        res.append(st[-1])\n",
    "    return \" \".join(res)"
   ]
  },
  {
   "cell_type": "code",
   "execution_count": 157,
   "metadata": {},
   "outputs": [],
   "source": [
    "lis=\"\"\"Cuando se lee un texto en inglés (sobre algún tema histórico principalmente),se puede encontrar ante las \n",
    "abreviaturas BC; AD; mismas que se traducen al español como antes de Cristo; después de Cristo, respectivamente.\n",
    "500 AD es lo mismo que 500 ac o 1500 dc seria 1500 BC\"\"\".split()"
   ]
  },
  {
   "cell_type": "code",
   "execution_count": 158,
   "metadata": {},
   "outputs": [
    {
     "data": {
      "text/plain": [
       "'Cuando se lee un texto en inglés (sobre algún tema histórico principalmente),se puede encontrar ante las abreviaturas BC; AD; mismas que traducen al español como antes de Cristo; después Cristo, respectivamente. 500AD es lo mismo 500ac o 1500dc seria 1500BC'"
      ]
     },
     "execution_count": 158,
     "metadata": {},
     "output_type": "execute_result"
    }
   ],
   "source": [
    "limpiar_edad(lis)"
   ]
  },
  {
   "cell_type": "code",
   "execution_count": null,
   "metadata": {},
   "outputs": [],
   "source": []
  }
 ],
 "metadata": {
  "kernelspec": {
   "display_name": "Python 3",
   "language": "python",
   "name": "python3"
  },
  "language_info": {
   "codemirror_mode": {
    "name": "ipython",
    "version": 3
   },
   "file_extension": ".py",
   "mimetype": "text/x-python",
   "name": "python",
   "nbconvert_exporter": "python",
   "pygments_lexer": "ipython3",
   "version": "3.7.6"
  }
 },
 "nbformat": 4,
 "nbformat_minor": 4
}
