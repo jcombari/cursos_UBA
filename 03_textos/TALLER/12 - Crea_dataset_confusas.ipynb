{
 "cells": [
  {
   "cell_type": "code",
   "execution_count": 1,
   "metadata": {},
   "outputs": [],
   "source": [
    "from requests import get # la vamos a usar para solicitar la página mediante su URL \n",
    "from bs4 import BeautifulSoup # biblioteca para web scraping\n",
    "import pandas as pd\n",
    "import string                              \n",
    "from nltk.corpus import stopwords # para remover palabras que no agregan significado          \n",
    "from nltk.stem import PorterStemmer # para llevar las palabras a su forma raíz        \n",
    "from nltk.tokenize import TweetTokenizer # para transformar cada palabra en un token\n",
    "from IPython.display import clear_output\n",
    "from collections import defaultdict\n",
    "import numpy as np"
   ]
  },
  {
   "cell_type": "code",
   "execution_count": null,
   "metadata": {},
   "outputs": [],
   "source": [
    "import pickle\n",
    "def save_obj(obj, name):\n",
    "       with open(name + '.pkl', 'wb') as f:\n",
    "           pickle.dump(obj, f, pickle.HIGHEST_PROTOCOL)\n",
    "\n",
    "def load_obj(name):\n",
    "       with open(name + '.pkl', 'rb') as f:\n",
    "           return pickle.load(f)"
   ]
  },
  {
   "cell_type": "code",
   "execution_count": 2,
   "metadata": {},
   "outputs": [
    {
     "name": "stdout",
     "output_type": "stream",
     "text": [
      "dataset terminado\n",
      "             Clase1        Clase2        Clase3        Clase4        Clase5\n",
      "count  15017.000000  15017.000000  15017.000000  15017.000000  15017.000000\n",
      "mean     762.425451    821.655391    779.091030    706.930013    749.688486\n",
      "std      398.578877    386.416180    341.336204    470.000742    579.700295\n",
      "min       11.000000      8.000000      0.000000      6.000000      1.000000\n",
      "25%      495.000000    544.000000    532.000000    391.000000    352.000000\n",
      "50%      683.000000    759.000000    732.000000    572.000000    586.000000\n",
      "75%      930.000000   1027.000000    972.000000    869.000000    948.000000\n",
      "max     5122.000000   3158.000000   2799.000000   4928.000000   4390.000000\n"
     ]
    }
   ],
   "source": [
    "def etiquetas(palabras,frecuencias,clases):\n",
    "    import numpy as np\n",
    "    x = np.zeros((1, 6))\n",
    "    for palabra in palabras:\n",
    "        for t in clases:\n",
    "            x[0,t] += frecuencias.get((palabra, t),0)\n",
    "    x[0,0]=1\n",
    "    return x\n",
    "\n",
    "stop        = stopwords.words('english')\n",
    "tokenizer   = TweetTokenizer(preserve_case = False, strip_handles = True, reduce_len = True)\n",
    "stemmer     = PorterStemmer()\n",
    "webs        = pd.ExcelFile(\"WEBs.xls\")\n",
    "df          = webs.parse(\"Categorias\")\n",
    "textos      = pd.DataFrame(columns = [ 'Texto' , 'Clase'])\n",
    "clases_df   = set(df[\"CÓDIGO\"].value_counts().index)\n",
    "frecuencias = defaultdict(int)\n",
    "for i in df.index:\n",
    "    url       = df[\"URL\"][i]\n",
    "    pagina    = get(url)\n",
    "    html      = BeautifulSoup(pagina.text,\"html.parser\")\n",
    "    parrafos  = [ x.text.strip() for x in html.findAll(\"p\") if x.text != \"\\n\" ]\n",
    "    for p in parrafos:\n",
    "        palabras = p.split()\n",
    "        if 15 <= len(palabras):\n",
    "            clear_output( wait = True )\n",
    "            print(\"procesando {}\".format(url))\n",
    "            print(f\"{i} de {len(df)}\")\n",
    "            texto_tokens = tokenizer.tokenize(p)\n",
    "            texto_clean  = [ word for word in texto_tokens if word not in stop and word not in string.punctuation ]\n",
    "            texto_stem   = [ stemmer.stem(word) for word in texto_clean ]\n",
    "            for t in range(len(texto_stem)//20):\n",
    "                j = 20 * t\n",
    "                palabras  = texto_stem[ j : 20 * (t+1) ] \n",
    "                textos   = textos.append({'Texto' : palabras, 'Clase' : df[\"CÓDIGO\"][i] }, ignore_index = True)\n",
    "\n",
    "vocabulario = set([x for m in textos.index for x in textos.loc[m].Texto ])                \n",
    "clases_df   = set(df[\"CÓDIGO\"].value_counts().index)\n",
    "\n",
    "for i in textos.index:\n",
    "    for palabra in textos.loc[i].Texto:\n",
    "        frecuencias[(palabra, textos.loc[i].Clase)] += 1\n",
    "        clear_output( wait = True )\n",
    "        print(f\"Creando Frecuencias {i} de {len(textos)}\")\n",
    "\n",
    "for i in clases_df:\n",
    "    textos[f\"Clase{i}\"] = textos.Texto.apply(lambda x : etiquetas(x,frecuencias,clases_df)[0,i])\n",
    "print(\"dataset terminado\")\n",
    "print(textos.describe())"
   ]
  },
  {
   "cell_type": "code",
   "execution_count": 3,
   "metadata": {},
   "outputs": [
    {
     "data": {
      "text/html": [
       "<div>\n",
       "<style scoped>\n",
       "    .dataframe tbody tr th:only-of-type {\n",
       "        vertical-align: middle;\n",
       "    }\n",
       "\n",
       "    .dataframe tbody tr th {\n",
       "        vertical-align: top;\n",
       "    }\n",
       "\n",
       "    .dataframe thead th {\n",
       "        text-align: right;\n",
       "    }\n",
       "</style>\n",
       "<table border=\"1\" class=\"dataframe\">\n",
       "  <thead>\n",
       "    <tr style=\"text-align: right;\">\n",
       "      <th></th>\n",
       "      <th>Texto</th>\n",
       "      <th>Clase</th>\n",
       "      <th>Clase1</th>\n",
       "      <th>Clase2</th>\n",
       "      <th>Clase3</th>\n",
       "      <th>Clase4</th>\n",
       "      <th>Clase5</th>\n",
       "    </tr>\n",
       "  </thead>\n",
       "  <tbody>\n",
       "    <tr>\n",
       "      <th>0</th>\n",
       "      <td>[alexand, iii, macedon, greek, αλέξανδρος, γʹ,...</td>\n",
       "      <td>1</td>\n",
       "      <td>1266.0</td>\n",
       "      <td>468.0</td>\n",
       "      <td>460.0</td>\n",
       "      <td>317.0</td>\n",
       "      <td>462.0</td>\n",
       "    </tr>\n",
       "    <tr>\n",
       "      <th>1</th>\n",
       "      <td>[bc, commonli, known, alexand, great, greek, ὁ...</td>\n",
       "      <td>1</td>\n",
       "      <td>2073.0</td>\n",
       "      <td>1007.0</td>\n",
       "      <td>740.0</td>\n",
       "      <td>279.0</td>\n",
       "      <td>522.0</td>\n",
       "    </tr>\n",
       "    <tr>\n",
       "      <th>2</th>\n",
       "      <td>[pella, 356, bc, succeed, father, philip, ii, ...</td>\n",
       "      <td>1</td>\n",
       "      <td>1457.0</td>\n",
       "      <td>1144.0</td>\n",
       "      <td>1206.0</td>\n",
       "      <td>698.0</td>\n",
       "      <td>1348.0</td>\n",
       "    </tr>\n",
       "    <tr>\n",
       "      <th>3</th>\n",
       "      <td>[age, thirti, creat, one, largest, empir, anci...</td>\n",
       "      <td>1</td>\n",
       "      <td>1272.0</td>\n",
       "      <td>1307.0</td>\n",
       "      <td>1032.0</td>\n",
       "      <td>829.0</td>\n",
       "      <td>1088.0</td>\n",
       "    </tr>\n",
       "    <tr>\n",
       "      <th>4</th>\n",
       "      <td>[youth, alexand, tutor, aristotl, age, 16, phi...</td>\n",
       "      <td>1</td>\n",
       "      <td>1497.0</td>\n",
       "      <td>694.0</td>\n",
       "      <td>623.0</td>\n",
       "      <td>485.0</td>\n",
       "      <td>580.0</td>\n",
       "    </tr>\n",
       "    <tr>\n",
       "      <th>...</th>\n",
       "      <td>...</td>\n",
       "      <td>...</td>\n",
       "      <td>...</td>\n",
       "      <td>...</td>\n",
       "      <td>...</td>\n",
       "      <td>...</td>\n",
       "      <td>...</td>\n",
       "    </tr>\n",
       "    <tr>\n",
       "      <th>15012</th>\n",
       "      <td>[south, chile, mont, verd, citat, need, americ...</td>\n",
       "      <td>5</td>\n",
       "      <td>534.0</td>\n",
       "      <td>528.0</td>\n",
       "      <td>552.0</td>\n",
       "      <td>618.0</td>\n",
       "      <td>1115.0</td>\n",
       "    </tr>\n",
       "    <tr>\n",
       "      <th>15013</th>\n",
       "      <td>[common, style, stone, tool, product, make, kn...</td>\n",
       "      <td>5</td>\n",
       "      <td>703.0</td>\n",
       "      <td>650.0</td>\n",
       "      <td>594.0</td>\n",
       "      <td>370.0</td>\n",
       "      <td>2111.0</td>\n",
       "    </tr>\n",
       "    <tr>\n",
       "      <th>15014</th>\n",
       "      <td>[archaic, period, america, saw, chang, environ...</td>\n",
       "      <td>5</td>\n",
       "      <td>683.0</td>\n",
       "      <td>782.0</td>\n",
       "      <td>737.0</td>\n",
       "      <td>593.0</td>\n",
       "      <td>1407.0</td>\n",
       "    </tr>\n",
       "    <tr>\n",
       "      <th>15015</th>\n",
       "      <td>[mobil, hunter-gather, individu, group, start,...</td>\n",
       "      <td>5</td>\n",
       "      <td>643.0</td>\n",
       "      <td>560.0</td>\n",
       "      <td>524.0</td>\n",
       "      <td>572.0</td>\n",
       "      <td>1149.0</td>\n",
       "    </tr>\n",
       "    <tr>\n",
       "      <th>15016</th>\n",
       "      <td>[poverti, point, dalton, plano, tradit, region...</td>\n",
       "      <td>5</td>\n",
       "      <td>487.0</td>\n",
       "      <td>474.0</td>\n",
       "      <td>475.0</td>\n",
       "      <td>397.0</td>\n",
       "      <td>821.0</td>\n",
       "    </tr>\n",
       "  </tbody>\n",
       "</table>\n",
       "<p>15017 rows × 7 columns</p>\n",
       "</div>"
      ],
      "text/plain": [
       "                                                   Texto Clase  Clase1  \\\n",
       "0      [alexand, iii, macedon, greek, αλέξανδρος, γʹ,...     1  1266.0   \n",
       "1      [bc, commonli, known, alexand, great, greek, ὁ...     1  2073.0   \n",
       "2      [pella, 356, bc, succeed, father, philip, ii, ...     1  1457.0   \n",
       "3      [age, thirti, creat, one, largest, empir, anci...     1  1272.0   \n",
       "4      [youth, alexand, tutor, aristotl, age, 16, phi...     1  1497.0   \n",
       "...                                                  ...   ...     ...   \n",
       "15012  [south, chile, mont, verd, citat, need, americ...     5   534.0   \n",
       "15013  [common, style, stone, tool, product, make, kn...     5   703.0   \n",
       "15014  [archaic, period, america, saw, chang, environ...     5   683.0   \n",
       "15015  [mobil, hunter-gather, individu, group, start,...     5   643.0   \n",
       "15016  [poverti, point, dalton, plano, tradit, region...     5   487.0   \n",
       "\n",
       "       Clase2  Clase3  Clase4  Clase5  \n",
       "0       468.0   460.0   317.0   462.0  \n",
       "1      1007.0   740.0   279.0   522.0  \n",
       "2      1144.0  1206.0   698.0  1348.0  \n",
       "3      1307.0  1032.0   829.0  1088.0  \n",
       "4       694.0   623.0   485.0   580.0  \n",
       "...       ...     ...     ...     ...  \n",
       "15012   528.0   552.0   618.0  1115.0  \n",
       "15013   650.0   594.0   370.0  2111.0  \n",
       "15014   782.0   737.0   593.0  1407.0  \n",
       "15015   560.0   524.0   572.0  1149.0  \n",
       "15016   474.0   475.0   397.0   821.0  \n",
       "\n",
       "[15017 rows x 7 columns]"
      ]
     },
     "execution_count": 3,
     "metadata": {},
     "output_type": "execute_result"
    }
   ],
   "source": [
    "textos"
   ]
  },
  {
   "cell_type": "code",
   "execution_count": null,
   "metadata": {},
   "outputs": [],
   "source": [
    "textos.describe()"
   ]
  },
  {
   "cell_type": "code",
   "execution_count": null,
   "metadata": {},
   "outputs": [],
   "source": [
    "textos.info()"
   ]
  },
  {
   "cell_type": "code",
   "execution_count": null,
   "metadata": {},
   "outputs": [],
   "source": [
    "textos.to_csv(\"Historia.csv\")"
   ]
  },
  {
   "cell_type": "code",
   "execution_count": null,
   "metadata": {},
   "outputs": [],
   "source": [
    "import pandas as pd\n",
    "textos = pd.read_csv(\"Historia.csv\")\n",
    "textos = textos.iloc[:,1:]\n",
    "textos"
   ]
  },
  {
   "cell_type": "code",
   "execution_count": null,
   "metadata": {},
   "outputs": [],
   "source": [
    "textos.groupby(by=[\"Clase\"]).count()"
   ]
  },
  {
   "cell_type": "code",
   "execution_count": null,
   "metadata": {},
   "outputs": [],
   "source": [
    "textos.sample(10)"
   ]
  },
  {
   "cell_type": "code",
   "execution_count": null,
   "metadata": {},
   "outputs": [],
   "source": [
    "len(vocabulario)"
   ]
  },
  {
   "cell_type": "code",
   "execution_count": null,
   "metadata": {},
   "outputs": [],
   "source": [
    "len(frecuencias)"
   ]
  },
  {
   "cell_type": "code",
   "execution_count": null,
   "metadata": {},
   "outputs": [],
   "source": [
    "clases_df"
   ]
  },
  {
   "cell_type": "code",
   "execution_count": null,
   "metadata": {},
   "outputs": [],
   "source": [
    "save_obj(vocabulario, \"Vocabulario\")"
   ]
  },
  {
   "cell_type": "code",
   "execution_count": null,
   "metadata": {},
   "outputs": [],
   "source": [
    "save_obj(frecuencias, \"Frecuencias\")"
   ]
  },
  {
   "cell_type": "code",
   "execution_count": null,
   "metadata": {},
   "outputs": [],
   "source": [
    "save_obj(clases_df, \"clases_df\")"
   ]
  },
  {
   "cell_type": "code",
   "execution_count": null,
   "metadata": {},
   "outputs": [],
   "source": [
    "textos.sample(10)"
   ]
  },
  {
   "cell_type": "code",
   "execution_count": null,
   "metadata": {},
   "outputs": [],
   "source": [
    "int(np.argmax(textos.iloc[3337,-5:].values)) + 1"
   ]
  },
  {
   "cell_type": "code",
   "execution_count": null,
   "metadata": {},
   "outputs": [],
   "source": [
    "int(textos.iloc[14317,1:2].values)"
   ]
  },
  {
   "cell_type": "code",
   "execution_count": null,
   "metadata": {},
   "outputs": [],
   "source": [
    "int(np.argmax(textos.iloc[1621,-5:].values)) + 1 == int(textos.iloc[1621,1:2].values)"
   ]
  },
  {
   "cell_type": "code",
   "execution_count": null,
   "metadata": {},
   "outputs": [],
   "source": [
    "textos.sample(10)"
   ]
  },
  {
   "cell_type": "code",
   "execution_count": null,
   "metadata": {},
   "outputs": [],
   "source": [
    "i = 3\n",
    "int(np.argmax(textos.iloc[i,-6:].values)) == int(textos.iloc[i,1:2].values)"
   ]
  },
  {
   "cell_type": "code",
   "execution_count": null,
   "metadata": {},
   "outputs": [],
   "source": [
    "int(np.argmax(textos.iloc[i,-5:].values) + 1)"
   ]
  },
  {
   "cell_type": "code",
   "execution_count": null,
   "metadata": {},
   "outputs": [],
   "source": [
    "textos.iloc[i,-6:].values"
   ]
  },
  {
   "cell_type": "code",
   "execution_count": null,
   "metadata": {},
   "outputs": [],
   "source": [
    "textos[\"Clase1\"][0]"
   ]
  },
  {
   "cell_type": "code",
   "execution_count": null,
   "metadata": {},
   "outputs": [],
   "source": [
    "# textos = textos.iloc[:10,:]\n",
    "textos"
   ]
  },
  {
   "cell_type": "code",
   "execution_count": null,
   "metadata": {},
   "outputs": [],
   "source": [
    "textos[\"FreqOK\"] = None\n",
    "textos"
   ]
  },
  {
   "cell_type": "code",
   "execution_count": null,
   "metadata": {},
   "outputs": [],
   "source": [
    "for i in textos.index:\n",
    "    textos[\"FreqOK\"][i] = int(np.argmax(textos.iloc[i,-6:-1].values)) + 1 == int(textos.iloc[i,1:2].values)\n",
    "    # print((np.argmax(textos.iloc[i,-6:-1].values)) + 1 == int(textos.iloc[i,1:2].values))\n",
    "textos    "
   ]
  },
  {
   "cell_type": "code",
   "execution_count": null,
   "metadata": {},
   "outputs": [],
   "source": [
    "textos.sample(10)"
   ]
  },
  {
   "cell_type": "code",
   "execution_count": null,
   "metadata": {},
   "outputs": [],
   "source": [
    "textos.sort_values(by=['FreqOK'])\n",
    "textos"
   ]
  },
  {
   "cell_type": "code",
   "execution_count": null,
   "metadata": {},
   "outputs": [],
   "source": [
    "textos.groupby(by=[\"FreqOK\"]).count()"
   ]
  },
  {
   "cell_type": "code",
   "execution_count": null,
   "metadata": {},
   "outputs": [],
   "source": [
    "textosF = textos[textos['FreqOK'] == False]\n",
    "textosF"
   ]
  },
  {
   "cell_type": "code",
   "execution_count": null,
   "metadata": {},
   "outputs": [],
   "source": [
    "textosF.groupby(by=[\"Clase\"]).count()"
   ]
  },
  {
   "cell_type": "code",
   "execution_count": null,
   "metadata": {},
   "outputs": [],
   "source": [
    "textosF1 = textosF[textosF['Clase'] == 1]\n",
    "textosF1"
   ]
  },
  {
   "cell_type": "code",
   "execution_count": null,
   "metadata": {},
   "outputs": [],
   "source": [
    "claseMax = np.argmax(textosF1.iloc[0,-6:-1].values) + 1\n",
    "claseMax"
   ]
  },
  {
   "cell_type": "code",
   "execution_count": null,
   "metadata": {},
   "outputs": [],
   "source": [
    "textosF1[\"ClasMax\"] = None\n",
    "textosF1"
   ]
  },
  {
   "cell_type": "code",
   "execution_count": null,
   "metadata": {},
   "outputs": [],
   "source": [
    "indice = 0\n",
    "for i in textosF1.index:\n",
    "    textosF1[\"ClasMax\"][i] = np.argmax(textosF1.iloc[indice,-7:-2].values) + 1\n",
    "    indice +=1\n",
    "textosF1.head(11)    "
   ]
  },
  {
   "cell_type": "code",
   "execution_count": null,
   "metadata": {},
   "outputs": [],
   "source": [
    "textosF1.sample(10)    "
   ]
  },
  {
   "cell_type": "code",
   "execution_count": null,
   "metadata": {},
   "outputs": [],
   "source": [
    "frecuencias = load_obj(\"Frecuencias\")"
   ]
  },
  {
   "cell_type": "code",
   "execution_count": null,
   "metadata": {},
   "outputs": [],
   "source": [
    "vocabulario = load_obj(\"Vocabulario\")"
   ]
  },
  {
   "cell_type": "code",
   "execution_count": null,
   "metadata": {},
   "outputs": [],
   "source": [
    "claseTrue = 1\n",
    "clases = 5\n",
    "palabrasConfusas = []\n",
    "# indice = 0\n",
    "totalPalabras = 0\n",
    "for i in textosF1.index:\n",
    "    \"\"\"\n",
    "    if indice > 1:\n",
    "        break\"\"\"\n",
    "    \n",
    "    w = 0        \n",
    "    for word in textosF1.loc[i,\"Texto\"].split():\n",
    "        freqWord = []\n",
    "        for k in range(clases + 1):\n",
    "            freqWord.append(0)\n",
    "        if w == 0:\n",
    "            word = word[2:-2]\n",
    "        else:   \n",
    "            word = word[1:-2]\n",
    "        w += 1                  \n",
    "        if word in vocabulario:\n",
    "            for k in range(1, len(freqWord)):\n",
    "                print(word,\"clase \",k,frecuencias[(word,k)])\n",
    "                freqWord[k] = frecuencias[(word,k)]\n",
    "        print(freqWord)    \n",
    "        print(np.argmax(freqWord))\n",
    "        print(np.argmax(freqWord) == claseTrue)        \n",
    "        if np.argmax(freqWord) != claseTrue:\n",
    "            palabrasConfusas.append(word)\n",
    "        totalPalabras += w        \n",
    "    indice += 1\n",
    "print(\"palabras\",totalPalabras)\n",
    "print(\"confusas\",len(palabrasConfusas))\n",
    "palabrasConfusas"
   ]
  },
  {
   "cell_type": "code",
   "execution_count": null,
   "metadata": {},
   "outputs": [],
   "source": [
    "claseTrue = 1\n",
    "clases = 5\n",
    "\n",
    "for word in palabrasConfusas:\n",
    "    freqWord = []\n",
    "    for k in range(clases + 1):\n",
    "        freqWord.append(0)\n",
    "    if word in vocabulario:\n",
    "        print()                                  \n",
    "        for i in range(1,6):\n",
    "            print(word,\"clase \",i,frecuencias[(word,i)]) \n",
    "            freqWord[i] = frecuencias[(word,i)]\n",
    "        print(freqWord)    \n",
    "        print(np.argmax(freqWord))\n",
    "        print(np.argmax(freqWord) == claseTrue)\n",
    "palabrasConfusas        "
   ]
  },
  {
   "cell_type": "code",
   "execution_count": null,
   "metadata": {},
   "outputs": [],
   "source": [
    "if 'bronz' in vocabulario:\n",
    "        print(\"está\")"
   ]
  },
  {
   "cell_type": "code",
   "execution_count": null,
   "metadata": {},
   "outputs": [],
   "source": [
    "print(frecuencias)"
   ]
  },
  {
   "cell_type": "code",
   "execution_count": null,
   "metadata": {},
   "outputs": [],
   "source": [
    "len(palabrasConfusas)"
   ]
  },
  {
   "cell_type": "code",
   "execution_count": null,
   "metadata": {},
   "outputs": [],
   "source": [
    "for word in palabrasConfusas:\n",
    "    if word in vocabulario:\n",
    "        print()                                  \n",
    "        for i in range(1,6):\n",
    "            print(word,\"clase \",i,frecuencias[(word,i)]) \n",
    "            freqWord[i] = frecuencias[(word,i)]\n",
    "        print(freqWord)    \n",
    "        print(np.argmax(freqWord))\n",
    "        print(np.argmax(freqWord) == claseTrue)\n",
    "        print(\"Maximo\", freqWord[np.argmax(freqWord)],\"Clase\",np.argmax(freqWord))\n",
    "palabrasConfusas        "
   ]
  },
  {
   "cell_type": "code",
   "execution_count": null,
   "metadata": {},
   "outputs": [],
   "source": [
    "confusas = pd.DataFrame(columns = ['Palabra' , 'Clase','FrecClase','ClaseMax','FrecMax'])"
   ]
  },
  {
   "cell_type": "code",
   "execution_count": null,
   "metadata": {},
   "outputs": [],
   "source": [
    "for word in palabrasConfusas:\n",
    "    if word in vocabulario: \n",
    "        freqWord = []\n",
    "        for k in range(clases + 1):\n",
    "            freqWord.append(0)\n",
    "        for i in range(1,6):\n",
    "            freqWord[i] = frecuencias[(word,i)]\n",
    "        confusas = confusas.append({'Palabra' : word, 'Clase' : claseTrue ,'FrecClase' : freqWord[claseTrue], 'ClaseMax' : np.argmax(freqWord),'FrecMax' : freqWord[np.argmax(freqWord)] }, ignore_index = True)        \n",
    "confusas"
   ]
  },
  {
   "cell_type": "code",
   "execution_count": null,
   "metadata": {},
   "outputs": [],
   "source": [
    "confusas.to_csv(\"Palabras_Confusas.csv\")"
   ]
  },
  {
   "cell_type": "code",
   "execution_count": null,
   "metadata": {},
   "outputs": [],
   "source": [
    "import pandas as pd\n",
    "confusas = pd.read_csv(\"Palabras_Confusas.csv\")\n",
    "confusas"
   ]
  },
  {
   "cell_type": "code",
   "execution_count": null,
   "metadata": {},
   "outputs": [],
   "source": [
    "confusas = confusas.iloc[:,1:]\n",
    "confusas"
   ]
  },
  {
   "cell_type": "code",
   "execution_count": null,
   "metadata": {},
   "outputs": [],
   "source": [
    "confusas[\"Porcentaje\"] = 100 * confusas[\"FrecClase\"] / confusas[\"FrecMax\"]\n",
    "confusas"
   ]
  },
  {
   "cell_type": "code",
   "execution_count": null,
   "metadata": {},
   "outputs": [],
   "source": [
    "confusas[\"Decenas\"] = confusas[\"Porcentaje\"] // 10\n",
    "confusas"
   ]
  },
  {
   "cell_type": "code",
   "execution_count": null,
   "metadata": {},
   "outputs": [],
   "source": [
    "confusas.groupby(by=[\"Decenas\"]).count()"
   ]
  },
  {
   "cell_type": "code",
   "execution_count": null,
   "metadata": {},
   "outputs": [],
   "source": [
    "confusas_clase1 = []\n",
    "for i in confusas.index:\n",
    "    if confusas[\"Decenas\"][i] < 2:\n",
    "        confusas_clase1.append(confusas[\"Palabra\"][i])\n",
    "len(confusas_clase1)        "
   ]
  },
  {
   "cell_type": "code",
   "execution_count": null,
   "metadata": {},
   "outputs": [],
   "source": [
    "confusas_clase1"
   ]
  },
  {
   "cell_type": "code",
   "execution_count": null,
   "metadata": {},
   "outputs": [],
   "source": [
    "frecuencias"
   ]
  },
  {
   "cell_type": "code",
   "execution_count": null,
   "metadata": {},
   "outputs": [],
   "source": [
    "claseTrue = 1\n",
    "clases = 5\n",
    "cont = 0\n",
    "for word in confusas_clase1:\n",
    "    print()\n",
    "    cont +=1\n",
    "    print(word)\n",
    "    for clase in range(1,clases + 1):\n",
    "        print(frecuencias.get((word,clase),0))\n",
    "        "
   ]
  },
  {
   "cell_type": "code",
   "execution_count": null,
   "metadata": {},
   "outputs": [],
   "source": [
    "claseTrue = 1\n",
    "clases = 5\n",
    "frecuenciasMod = frecuencias.copy()\n",
    "for word in confusas_clase1:\n",
    "    frecuenciasMod[word,claseTrue] = 1"
   ]
  },
  {
   "cell_type": "code",
   "execution_count": null,
   "metadata": {},
   "outputs": [],
   "source": [
    "claseTrue = 1\n",
    "clases = 5\n",
    "for word in confusas_clase1:\n",
    "    print()\n",
    "    print()\n",
    "    print(word)\n",
    "    for clase in range(1,clases + 1):\n",
    "        print(frecuencias.get((word,clase),0), end = \" \")\n",
    "    print()    \n",
    "    for clase in range(1,clases + 1):\n",
    "        print(frecuenciasMod.get((word,clase),0), end = \" \")"
   ]
  },
  {
   "cell_type": "code",
   "execution_count": null,
   "metadata": {},
   "outputs": [],
   "source": []
  }
 ],
 "metadata": {
  "kernelspec": {
   "display_name": "Python 3",
   "language": "python",
   "name": "python3"
  },
  "language_info": {
   "codemirror_mode": {
    "name": "ipython",
    "version": 3
   },
   "file_extension": ".py",
   "mimetype": "text/x-python",
   "name": "python",
   "nbconvert_exporter": "python",
   "pygments_lexer": "ipython3",
   "version": "3.7.6"
  }
 },
 "nbformat": 4,
 "nbformat_minor": 4
}
