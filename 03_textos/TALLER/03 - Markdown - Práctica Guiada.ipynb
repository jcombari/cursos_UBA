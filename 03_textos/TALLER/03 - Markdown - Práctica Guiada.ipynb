{
 "cells": [
  {
   "cell_type": "markdown",
   "metadata": {},
   "source": [
    "###### Propiedades de Markdown"
   ]
  },
  {
   "cell_type": "markdown",
   "metadata": {},
   "source": [
    "## Texto resaltado (negrita)\n",
    "\n",
    "probando la **negrita....**  ¿Anduvo?"
   ]
  },
  {
   "cell_type": "markdown",
   "metadata": {},
   "source": [
    "## Itálica\n",
    "\n",
    "se puede escribir también en *itálica* poniendo un solo asterisco\n"
   ]
  },
  {
   "cell_type": "markdown",
   "metadata": {},
   "source": [
    "## Listas desordenadas\n",
    "\n",
    "- casa\n",
    "- perro \n",
    "- auto.\n"
   ]
  },
  {
   "cell_type": "markdown",
   "metadata": {},
   "source": [
    "## Listas ordenadas\n",
    "\n",
    "1. casa\n",
    "2. perro \n",
    "3. auto\n",
    "5. gato\n",
    "10. pepe\n",
    "1. Hola"
   ]
  },
  {
   "cell_type": "markdown",
   "metadata": {},
   "source": [
    "## Enlaces (links) \n",
    "\n",
    "[GITHUB del Centro de Graduados FIUBA](https://github.com/Backpropagation-Limitada)"
   ]
  },
  {
   "cell_type": "markdown",
   "metadata": {},
   "source": [
    "## Imágenes\n",
    "\n",
    "![BELÉN](belen.jpg \"A Belén le gustan los gatitos\")"
   ]
  },
  {
   "cell_type": "markdown",
   "metadata": {},
   "source": [
    "## Citas\n",
    "\n",
    "> \"El único usuario bueno es el usuario muerto\"\n",
    ">\n",
    "> [Ángel \"JAVA\" López] (https://github.com/ajlopez)"
   ]
  },
  {
   "cell_type": "markdown",
   "metadata": {},
   "source": [
    "## Línea horizontal\n",
    "\n",
    "---\n",
    "\n",
    "___\n",
    "\n",
    "***\n",
    "\n"
   ]
  },
  {
   "cell_type": "markdown",
   "metadata": {},
   "source": [
    "## Tablas\n",
    "\n",
    "|tables|are |cool| \n",
    "|----|:----:|----:|\n",
    "|col 3 is|right-alined|1600| \n",
    "|col 2 is |centered|12|\n",
    "|zebras are|neat|1|"
   ]
  },
  {
   "cell_type": "markdown",
   "metadata": {},
   "source": [
    "## Como poner código Python en markdwon \n",
    "\n",
    "### Antes del codigo escribir  \\`\\`\\`python y cerrar el bloque de codigo con  \\`\\`\\`\n",
    "\n",
    "```python\n",
    "for i in range(10):\n",
    "    print(i)\n",
    "```"
   ]
  },
  {
   "cell_type": "markdown",
   "metadata": {},
   "source": [
    "```python\n",
    "import numpy as np\n",
    "\n",
    "```"
   ]
  },
  {
   "cell_type": "markdown",
   "metadata": {},
   "source": [
    "```python\n",
    "print('hello world')\n",
    "```"
   ]
  },
  {
   "cell_type": "markdown",
   "metadata": {},
   "source": [
    "# LÁTEX"
   ]
  },
  {
   "cell_type": "markdown",
   "metadata": {},
   "source": [
    "Si sumamos $x$ con $y$, obtenemos:\n",
    "$$x+y=z$$"
   ]
  },
  {
   "cell_type": "markdown",
   "metadata": {},
   "source": [
    "**Code:**\n",
    "```markdown\n",
    "You can use LaTeX in line by like this $y = x^2$ or in block like this $$y = x^2$$\n",
    "```"
   ]
  },
  {
   "cell_type": "markdown",
   "metadata": {},
   "source": [
    "$y = x^2$"
   ]
  },
  {
   "cell_type": "markdown",
   "metadata": {},
   "source": [
    "$$y = x^2$$"
   ]
  },
  {
   "cell_type": "markdown",
   "metadata": {},
   "source": [
    "## Operators:\n",
    "\n",
    "- Add:\n",
    " - $x + y$\n",
    "- Subtract:\n",
    " - $x - y$\n",
    "- Multiply\n",
    " - $x * y$\n",
    " - $x \\times y$ \n",
    " - $x . y$ \n",
    "- Divide\n",
    " - $x / y$\n",
    " - $x \\div y$\n",
    " - $\\frac{x}{y}$"
   ]
  },
  {
   "cell_type": "markdown",
   "metadata": {},
   "source": [
    "**Code:**\n",
    "```markdown\n",
    "- Add:\n",
    " - $x + y$\n",
    "- Subtract:\n",
    " - $x - y$\n",
    "- Multiply\n",
    " - $x * y$\n",
    " - $x \\times y$ \n",
    " - $x . y$ \n",
    "- Divide\n",
    " - $x / y$\n",
    " - $x \\div y$\n",
    " - $\\frac{x}{y}$\n",
    "```"
   ]
  },
  {
   "cell_type": "markdown",
   "metadata": {},
   "source": [
    "## Relations\n",
    "\n",
    "- $\\pi \\approx 3.14159$\n",
    "- ${1 \\over 0} \\neq \\inf$\n",
    "- $0 < x > 1$\n",
    "- $0 \\leq x \\geq 1$\n",
    "\n",
    "**Code:**\n",
    "```\n",
    "- $\\pi \\approx 3.14159$\n",
    "- ${1 \\over 0} \\neq \\inf$\n",
    "- $0 < x > 1$\n",
    "- $0 \\leq x \\geq 1$\n",
    "```"
   ]
  },
  {
   "cell_type": "markdown",
   "metadata": {},
   "source": [
    "## Fractions\n",
    "\n",
    "- $^1/_2$\n",
    "- $\\frac{1}{2x}$\n",
    "- ${3 \\over 4}$\n",
    "\n",
    "\n",
    "**Code:**\n",
    "```\n",
    "- $^1/_2$\n",
    "- $\\frac{1}{2x}$\n",
    "- ${3 \\over 4}$\n",
    "```"
   ]
  },
  {
   "cell_type": "markdown",
   "metadata": {},
   "source": [
    "## Greek Alphabet\n",
    "\n",
    "| Small Letter          | Capical Letter       | Alervative                  |\n",
    "| --------------------- | -------------------- | --------------------------- |\n",
    "| $\\alpha$   `\\alpha`   | $A$ `A`              |                             |\n",
    "| $\\beta$   `\\beta`     | $B$ `B`              |                             |\n",
    "| $\\gamma$   `\\gamma`   | $\\Gamma$ `\\Gamma`    |                             |\n",
    "| $\\delta$   `\\delta`   | $\\Delta$ `\\Delta`    |                             |\n",
    "| $\\epsilon$ `\\epsilon` | $E$ `E`              | $\\varepsilon$ `\\varepsilon` |\n",
    "| $\\zeta$   `\\zeta`     | $Z$ `Z`              |                             |\n",
    "| $\\eta$   `\\eta`       | $H$ `H`              |                             |\n",
    "| $\\theta$ `\\theta`     | $\\Theta$ `\\Theta`    | $\\vartheta$ `\\vartheta`     |\n",
    "| $\\iota$   `\\zeta`     | $I$ `I`              |                             |\n",
    "| $\\kappa$ `\\kappa`     | $K$ `K`              | $\\varkappa$ `\\varkappa`     |\n",
    "| $\\lambda$   `\\lambda` | $\\Lambda$ `\\Lambda`  |                             |\n",
    "| $\\mu$   `\\mu`         | $M$ `M`              |                             |\n",
    "| $\\nu$   `\\nu`         | $N$ `N`              |                             |\n",
    "| $\\xi$   `\\xi`         | $Xi$ `\\Xi`           |                             |\n",
    "| $\\omicron$ `\\omicron` | $O$ `O`              |                             |\n",
    "| $\\pi$ `\\pi`           | $\\Pi$ `\\Pi`          | $\\varpi$ `\\varpi`           |\n",
    "| $\\rho$ `\\rho`         | $P$ `P`              | $\\varrho$ `\\varrho`         |\n",
    "| $\\sigma$ `\\sigma`     | $\\Sigma$ `\\Sigma`    | $\\varsigma$ `\\varsigma`     |\n",
    "| $\\tau$   `\\tau`       | $T$ `T`              |                             |\n",
    "| $\\upsilon$ `\\upsilon` | $\\Upsilon$ `\\Upsilon`|                             |\n",
    "| $\\phi$ `\\phi`         | $\\Phi$ `\\Phi`        | $\\varphi$ `\\varphi`         |\n",
    "| $\\chi$   `\\chi`       | $X$ `X`              |                             |\n",
    "| $\\psi$ `\\psi`         | $\\Psi$ `\\Psi`        |                             |\n",
    "| $\\omega$   `\\omega`   | $\\Omega$ `\\Omega`    |                             |"
   ]
  },
  {
   "cell_type": "markdown",
   "metadata": {},
   "source": [
    "## Power & Index\n",
    "\n",
    "You can add power using the carrot `^` symbol. If you have more than one character you have to enclose them in a curly brackets.\n",
    "\n",
    " $$f(x) = x^2 - x^{1 \\over \\pi}$$\n",
    "\n",
    "For index you can use the underscore symbol:\n",
    "\n",
    "$$f(X,n) = X_n + X_{n-1}$$\n",
    "\n",
    "**Code:**\n",
    "```markdown\n",
    "$$f(x) = x^2 - x^{1 \\over \\pi}$$\n",
    "$$f(X,n) = X_n + X_{n-1}$$\n",
    "\n",
    "```"
   ]
  },
  {
   "cell_type": "markdown",
   "metadata": {},
   "source": [
    "## Roots & Log\n",
    "\n",
    "You can express a square root in LaTeX using the `\\sqrt` and to change the level of the root you can use `\\sqrt[n]` where `n` is the level of the root.\n",
    "\n",
    "$$f(x) = \\sqrt[3]{2x} + \\sqrt{x-2}$$\n",
    "\n",
    "To represent a log use `\\log[base]` where `base` is the base of the logarithmic term.\n",
    "\n",
    "$$\\log[x] x = 1$$\n",
    "\n",
    "**Code:**\n",
    "```markdown\n",
    "$$f(x) = \\sqrt[3]{2x} + \\sqrt{x-2}$$\n",
    "```"
   ]
  },
  {
   "cell_type": "markdown",
   "metadata": {},
   "source": [
    "## Sums & Products\n",
    "\n",
    "You can represent a sum with a sigma using `\\sum\\limits_{a}^{b}` where a and b are the lower and higher limits of the sum.\n",
    "\n",
    "$$\\sum\\limits_{x=1}^{\\infty} {1 \\over x} = 2$$\n",
    "\n",
    "Also you can represent a product with `\\prod\\limits_{a}^{a}` where a and b are the lower and higher limits.\n",
    "\n",
    "$$\\prod\\limits_{i=1}^{n} x_i - 1$$\n",
    "\n",
    "**Code:**\n",
    "```\n",
    "$$\\sum\\limits_{x=1}^{\\infty} {1 \\over x} = 2$$\n",
    "$$\\prod\\limits_{i=1}^{n} x_i - 1$$\n",
    "```"
   ]
  },
  {
   "cell_type": "markdown",
   "metadata": {},
   "source": [
    "## Statistics\n",
    "\n",
    "To represent basic concepts in statistics about sample space `S`, you can represent a maximum:\n",
    "\n",
    "$$max(S) = \\max\\limits_{i: S_i \\in S} S_i$$\n",
    "\n",
    "In the same way you can get the minimum:\n",
    "\n",
    "$$min(S) = \\min\\limits_{i: S_i \\in S} S_i$$\n",
    "\n",
    "To represent a [binomial coefficient](http://en.wikipedia.org/wiki/Binomial_coefficient) with n choose k, use the following:\n",
    "\n",
    "$$\\frac{n!}{k!(n-k)!} = {n \\choose k}$$\n",
    "\n",
    "for :\n",
    "\n",
    "**Code:**\n",
    "```\n",
    "$$max(S) = \\max\\limits_{i: x_i \\in \\{S\\}} x_i$$\n",
    "$$min (S) = \\min\\limits_{i: x_i \\in \\{S\\}} x_i$$\n",
    "$$\\frac{n!}{k!(n-k)!} = {n \\choose k}$$\n",
    "```"
   ]
  },
  {
   "cell_type": "markdown",
   "metadata": {},
   "source": [
    "## Calculus\n",
    "\n",
    "Limits are represented using `\\lim\\limits_{x \\to a}` as `x` approaches `a`.\n",
    "\n",
    "$$\\lim\\limits_{x \\to 0^+} {1 \\over 0} = \\infty$$\n",
    "\n",
    "For integral equations use `\\int\\limits_{a}^{b}` where `a` and `b` are the lower and higher limits.\n",
    "\n",
    "$$\\int\\limits_a^b 2x \\, dx$$\n",
    "\n",
    "\n",
    "**Code:**\n",
    "```markdown\n",
    "$$\\lim\\limits_{x \\to 0^+} {1 \\over 0} = \\inf$$\n",
    "$$\\int\\limits_a^b 2x \\, dx$$\n",
    "```"
   ]
  },
  {
   "cell_type": "markdown",
   "metadata": {},
   "source": [
    "## Function definition over periods\n",
    "\n",
    "Defining a function that is calculated differently over a number of period can done using LaTeX. There are a few tricks that we will use to do that:\n",
    "\n",
    "- The large curly bracket `\\left\\{ ... \\right.` Notice it you want to use `(` or `[` you don't have to add a back slash(`\\`). You can also place a right side matching bracket by replacing the `.` after `\\right` like this `.right}`\n",
    "- Array to hold the definitions in place. it has two columns with left alignment. `\\begin{array}{ll} ... \\end{array}`\n",
    "- Line Breaker `\\\\`\n",
    "- Text alignment box ` \\mbox{Text}`\n",
    "\n",
    "$f(x) =\\left\\{\\begin{array}{ll}0  & \\mbox{if } x = 0 \\\\{1 \\over x} & \\mbox{if } x \\neq 0\\end{array}\\right.$\n",
    "\n",
    "**Code:**\n",
    "```\n",
    "$f(x) =\n",
    "\\left\\{\n",
    "\t\\begin{array}{ll}\n",
    "\t\t0  & \\mbox{if } x = 0 \\\\\n",
    "\t\t{1 \\over x} & \\mbox{if } x \\neq 0\n",
    "\t\\end{array}\n",
    "\\right.$\n",
    "```\n",
    "\n",
    "**Note:** If you are planning to show your notebook in NBViewer write your latex code in one line. For example you can write the code above like this:\n",
    "\n",
    "```\n",
    "$f(x) =\\left\\{\\begin{array}{ll}0  & \\mbox{if } x = 0 \\\\{1 \\over x} & \\mbox{if } x \\neq 0\\end{array}\\right.$\n",
    "```\n",
    "\n",
    "#Quick Quiz (Normal Distribution)\n",
    "\n",
    "Try to replicate the [Normal Distribution](http://en.wikipedia.org/wiki/Normal_distribution) formula using LaTeX. If you solve it, leave the LaTeX code in the comments below. $Don't\\ cheat$.\n",
    "\n",
    "$$P(x,\\sigma,\\mu) = \\frac{1}{{\\sigma \\sqrt {2\\pi } }}e^{{-(x - \\mu)^2 } / {2\\sigma ^2}}$$\n",
    "\n",
    "Tips to help with the quiz:\n",
    "\n",
    "- $\\mu$ is `\\mu`\n",
    "- $\\sigma$ is `\\sigma`\n",
    "- $e$ is `e`"
   ]
  }
 ],
 "metadata": {
  "kernelspec": {
   "display_name": "Python 3",
   "language": "python",
   "name": "python3"
  },
  "language_info": {
   "codemirror_mode": {
    "name": "ipython",
    "version": 3
   },
   "file_extension": ".py",
   "mimetype": "text/x-python",
   "name": "python",
   "nbconvert_exporter": "python",
   "pygments_lexer": "ipython3",
   "version": "3.7.6"
  }
 },
 "nbformat": 4,
 "nbformat_minor": 2
}
