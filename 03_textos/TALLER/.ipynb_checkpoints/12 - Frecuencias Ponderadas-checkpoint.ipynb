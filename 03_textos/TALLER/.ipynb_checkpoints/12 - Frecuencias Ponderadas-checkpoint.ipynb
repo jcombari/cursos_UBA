{
 "cells": [
  {
   "cell_type": "code",
   "execution_count": null,
   "metadata": {},
   "outputs": [],
   "source": [
    "import pandas as pd\n",
    "import numpy as np"
   ]
  },
  {
   "cell_type": "code",
   "execution_count": null,
   "metadata": {},
   "outputs": [],
   "source": [
    "textos.to_csv(\"Historia.csv\")"
   ]
  },
  {
   "cell_type": "code",
   "execution_count": null,
   "metadata": {},
   "outputs": [],
   "source": [
    "import pandas as pd\n",
    "textos = pd.read_csv(\"Historia.csv\")\n",
    "textos = textos.iloc[:,1:]\n",
    "textos"
   ]
  },
  {
   "cell_type": "code",
   "execution_count": null,
   "metadata": {},
   "outputs": [],
   "source": [
    "import pickle\n",
    "def save_obj(obj, name):\n",
    "       with open(name + '.pkl', 'wb') as f:\n",
    "           pickle.dump(obj, f, pickle.HIGHEST_PROTOCOL)\n",
    "\n",
    "def load_obj(name):\n",
    "       with open(name + '.pkl', 'rb') as f:\n",
    "           return pickle.load(f)"
   ]
  },
  {
   "cell_type": "code",
   "execution_count": null,
   "metadata": {},
   "outputs": [],
   "source": [
    "textos.groupby(by=[\"Clase\"]).count()"
   ]
  },
  {
   "cell_type": "code",
   "execution_count": null,
   "metadata": {},
   "outputs": [],
   "source": [
    "textos.sample(10)"
   ]
  },
  {
   "cell_type": "code",
   "execution_count": null,
   "metadata": {},
   "outputs": [],
   "source": [
    "len(vocabulario)"
   ]
  },
  {
   "cell_type": "code",
   "execution_count": null,
   "metadata": {},
   "outputs": [],
   "source": [
    "len(frecuencias)"
   ]
  },
  {
   "cell_type": "code",
   "execution_count": null,
   "metadata": {},
   "outputs": [],
   "source": [
    "clases_df"
   ]
  },
  {
   "cell_type": "code",
   "execution_count": null,
   "metadata": {},
   "outputs": [],
   "source": []
  },
  {
   "cell_type": "code",
   "execution_count": null,
   "metadata": {},
   "outputs": [],
   "source": []
  },
  {
   "cell_type": "code",
   "execution_count": null,
   "metadata": {},
   "outputs": [],
   "source": [
    "textos.sample(10)"
   ]
  },
  {
   "cell_type": "code",
   "execution_count": null,
   "metadata": {},
   "outputs": [],
   "source": [
    "int(np.argmax(textos.iloc[3337,-5:].values)) + 1"
   ]
  },
  {
   "cell_type": "code",
   "execution_count": null,
   "metadata": {},
   "outputs": [],
   "source": [
    "int(textos.iloc[14317,1:2].values)"
   ]
  },
  {
   "cell_type": "code",
   "execution_count": null,
   "metadata": {},
   "outputs": [],
   "source": [
    "int(np.argmax(textos.iloc[1621,-5:].values)) + 1 == int(textos.iloc[1621,1:2].values)"
   ]
  },
  {
   "cell_type": "code",
   "execution_count": null,
   "metadata": {},
   "outputs": [],
   "source": [
    "textos.sample(10)"
   ]
  },
  {
   "cell_type": "code",
   "execution_count": null,
   "metadata": {},
   "outputs": [],
   "source": [
    "i = 3\n",
    "int(np.argmax(textos.iloc[i,-6:].values)) == int(textos.iloc[i,1:2].values)"
   ]
  },
  {
   "cell_type": "code",
   "execution_count": null,
   "metadata": {},
   "outputs": [],
   "source": [
    "int(np.argmax(textos.iloc[i,-5:].values) + 1)"
   ]
  },
  {
   "cell_type": "code",
   "execution_count": null,
   "metadata": {},
   "outputs": [],
   "source": [
    "textos.iloc[i,-6:].values"
   ]
  },
  {
   "cell_type": "code",
   "execution_count": null,
   "metadata": {},
   "outputs": [],
   "source": [
    "textos[\"Clase1\"][0]"
   ]
  },
  {
   "cell_type": "code",
   "execution_count": null,
   "metadata": {},
   "outputs": [],
   "source": [
    "# textos = textos.iloc[:10,:]\n",
    "textos"
   ]
  },
  {
   "cell_type": "code",
   "execution_count": null,
   "metadata": {},
   "outputs": [],
   "source": [
    "textos[\"FreqOK\"] = None\n",
    "textos"
   ]
  },
  {
   "cell_type": "code",
   "execution_count": null,
   "metadata": {},
   "outputs": [],
   "source": [
    "for i in textos.index:\n",
    "    textos[\"FreqOK\"][i] = int(np.argmax(textos.iloc[i,-6:-1].values)) + 1 == int(textos.iloc[i,1:2].values)\n",
    "    # print((np.argmax(textos.iloc[i,-6:-1].values)) + 1 == int(textos.iloc[i,1:2].values))\n",
    "textos    "
   ]
  },
  {
   "cell_type": "code",
   "execution_count": null,
   "metadata": {},
   "outputs": [],
   "source": [
    "textos.sample(10)"
   ]
  },
  {
   "cell_type": "code",
   "execution_count": null,
   "metadata": {},
   "outputs": [],
   "source": [
    "textos.sort_values(by=['FreqOK'])\n",
    "textos"
   ]
  },
  {
   "cell_type": "code",
   "execution_count": null,
   "metadata": {},
   "outputs": [],
   "source": [
    "textos.groupby(by=[\"FreqOK\"]).count()"
   ]
  },
  {
   "cell_type": "code",
   "execution_count": null,
   "metadata": {},
   "outputs": [],
   "source": [
    "textosF = textos[textos['FreqOK'] == False]\n",
    "textosF"
   ]
  },
  {
   "cell_type": "code",
   "execution_count": null,
   "metadata": {},
   "outputs": [],
   "source": [
    "textosF.groupby(by=[\"Clase\"]).count()"
   ]
  },
  {
   "cell_type": "code",
   "execution_count": null,
   "metadata": {},
   "outputs": [],
   "source": [
    "textosF1 = textosF[textosF['Clase'] == 1]\n",
    "textosF1"
   ]
  },
  {
   "cell_type": "code",
   "execution_count": null,
   "metadata": {},
   "outputs": [],
   "source": [
    "claseMax = np.argmax(textosF1.iloc[0,-6:-1].values) + 1\n",
    "claseMax"
   ]
  },
  {
   "cell_type": "code",
   "execution_count": null,
   "metadata": {},
   "outputs": [],
   "source": [
    "textosF1[\"ClasMax\"] = None\n",
    "textosF1"
   ]
  },
  {
   "cell_type": "code",
   "execution_count": null,
   "metadata": {},
   "outputs": [],
   "source": [
    "indice = 0\n",
    "for i in textosF1.index:\n",
    "    textosF1[\"ClasMax\"][i] = np.argmax(textosF1.iloc[indice,-7:-2].values) + 1\n",
    "    indice +=1\n",
    "textosF1.head(11)    "
   ]
  },
  {
   "cell_type": "code",
   "execution_count": null,
   "metadata": {},
   "outputs": [],
   "source": [
    "textosF1.sample(10)    "
   ]
  },
  {
   "cell_type": "code",
   "execution_count": null,
   "metadata": {},
   "outputs": [],
   "source": [
    "frecuencias = load_obj(\"Frecuencias\")"
   ]
  },
  {
   "cell_type": "code",
   "execution_count": null,
   "metadata": {},
   "outputs": [],
   "source": [
    "vocabulario = load_obj(\"Vocabulario\")"
   ]
  },
  {
   "cell_type": "code",
   "execution_count": null,
   "metadata": {},
   "outputs": [],
   "source": [
    "claseTrue = 1\n",
    "clases = 5\n",
    "palabrasConfusas = []\n",
    "# indice = 0\n",
    "totalPalabras = 0\n",
    "for i in textosF1.index:\n",
    "    \"\"\"\n",
    "    if indice > 1:\n",
    "        break\"\"\"\n",
    "    \n",
    "    w = 0        \n",
    "    for word in textosF1.loc[i,\"Texto\"].split():\n",
    "        freqWord = []\n",
    "        for k in range(clases + 1):\n",
    "            freqWord.append(0)\n",
    "        if w == 0:\n",
    "            word = word[2:-2]\n",
    "        else:   \n",
    "            word = word[1:-2]\n",
    "        w += 1                  \n",
    "        if word in vocabulario:\n",
    "            for k in range(1, len(freqWord)):\n",
    "                print(word,\"clase \",k,frecuencias[(word,k)])\n",
    "                freqWord[k] = frecuencias[(word,k)]\n",
    "        print(freqWord)    \n",
    "        print(np.argmax(freqWord))\n",
    "        print(np.argmax(freqWord) == claseTrue)        \n",
    "        if np.argmax(freqWord) != claseTrue:\n",
    "            palabrasConfusas.append(word)\n",
    "        totalPalabras += w        \n",
    "    indice += 1\n",
    "print(\"palabras\",totalPalabras)\n",
    "print(\"confusas\",len(palabrasConfusas))\n",
    "palabrasConfusas"
   ]
  },
  {
   "cell_type": "code",
   "execution_count": null,
   "metadata": {},
   "outputs": [],
   "source": [
    "claseTrue = 1\n",
    "clases = 5\n",
    "\n",
    "for word in palabrasConfusas:\n",
    "    freqWord = []\n",
    "    for k in range(clases + 1):\n",
    "        freqWord.append(0)\n",
    "    if word in vocabulario:\n",
    "        print()                                  \n",
    "        for i in range(1,6):\n",
    "            print(word,\"clase \",i,frecuencias[(word,i)]) \n",
    "            freqWord[i] = frecuencias[(word,i)]\n",
    "        print(freqWord)    \n",
    "        print(np.argmax(freqWord))\n",
    "        print(np.argmax(freqWord) == claseTrue)\n",
    "palabrasConfusas        "
   ]
  },
  {
   "cell_type": "code",
   "execution_count": null,
   "metadata": {},
   "outputs": [],
   "source": [
    "if 'bronz' in vocabulario:\n",
    "        print(\"está\")"
   ]
  },
  {
   "cell_type": "code",
   "execution_count": null,
   "metadata": {},
   "outputs": [],
   "source": [
    "print(frecuencias)"
   ]
  },
  {
   "cell_type": "code",
   "execution_count": null,
   "metadata": {},
   "outputs": [],
   "source": [
    "len(palabrasConfusas)"
   ]
  },
  {
   "cell_type": "code",
   "execution_count": null,
   "metadata": {},
   "outputs": [],
   "source": [
    "for word in palabrasConfusas:\n",
    "    if word in vocabulario:\n",
    "        print()                                  \n",
    "        for i in range(1,6):\n",
    "            print(word,\"clase \",i,frecuencias[(word,i)]) \n",
    "            freqWord[i] = frecuencias[(word,i)]\n",
    "        print(freqWord)    \n",
    "        print(np.argmax(freqWord))\n",
    "        print(np.argmax(freqWord) == claseTrue)\n",
    "        print(\"Maximo\", freqWord[np.argmax(freqWord)],\"Clase\",np.argmax(freqWord))\n",
    "palabrasConfusas        "
   ]
  },
  {
   "cell_type": "code",
   "execution_count": null,
   "metadata": {},
   "outputs": [],
   "source": [
    "confusas = pd.DataFrame(columns = ['Palabra' , 'Clase','FrecClase','ClaseMax','FrecMax'])"
   ]
  },
  {
   "cell_type": "code",
   "execution_count": null,
   "metadata": {},
   "outputs": [],
   "source": [
    "for word in palabrasConfusas:\n",
    "    if word in vocabulario: \n",
    "        freqWord = []\n",
    "        for k in range(clases + 1):\n",
    "            freqWord.append(0)\n",
    "        for i in range(1,6):\n",
    "            freqWord[i] = frecuencias[(word,i)]\n",
    "        confusas = confusas.append({'Palabra' : word, 'Clase' : claseTrue ,'FrecClase' : freqWord[claseTrue], 'ClaseMax' : np.argmax(freqWord),'FrecMax' : freqWord[np.argmax(freqWord)] }, ignore_index = True)        \n",
    "confusas"
   ]
  },
  {
   "cell_type": "code",
   "execution_count": null,
   "metadata": {},
   "outputs": [],
   "source": [
    "confusas.to_csv(\"Palabras_Confusas.csv\")"
   ]
  },
  {
   "cell_type": "code",
   "execution_count": null,
   "metadata": {},
   "outputs": [],
   "source": [
    "import pandas as pd\n",
    "confusas = pd.read_csv(\"Palabras_Confusas.csv\")\n",
    "confusas"
   ]
  },
  {
   "cell_type": "code",
   "execution_count": null,
   "metadata": {},
   "outputs": [],
   "source": [
    "confusas = confusas.iloc[:,1:]\n",
    "confusas"
   ]
  },
  {
   "cell_type": "code",
   "execution_count": null,
   "metadata": {},
   "outputs": [],
   "source": [
    "confusas[\"Porcentaje\"] = 100 * confusas[\"FrecClase\"] / confusas[\"FrecMax\"]\n",
    "confusas"
   ]
  },
  {
   "cell_type": "code",
   "execution_count": null,
   "metadata": {},
   "outputs": [],
   "source": [
    "confusas[\"Decenas\"] = confusas[\"Porcentaje\"] // 10\n",
    "confusas"
   ]
  },
  {
   "cell_type": "code",
   "execution_count": null,
   "metadata": {},
   "outputs": [],
   "source": [
    "confusas.groupby(by=[\"Decenas\"]).count()"
   ]
  },
  {
   "cell_type": "code",
   "execution_count": null,
   "metadata": {},
   "outputs": [],
   "source": [
    "confusas_clase1 = []\n",
    "for i in confusas.index:\n",
    "    if confusas[\"Decenas\"][i] < 2:\n",
    "        confusas_clase1.append(confusas[\"Palabra\"][i])\n",
    "len(confusas_clase1)        "
   ]
  },
  {
   "cell_type": "code",
   "execution_count": null,
   "metadata": {},
   "outputs": [],
   "source": [
    "confusas_clase1"
   ]
  },
  {
   "cell_type": "code",
   "execution_count": null,
   "metadata": {},
   "outputs": [],
   "source": [
    "frecuencias"
   ]
  },
  {
   "cell_type": "code",
   "execution_count": null,
   "metadata": {},
   "outputs": [],
   "source": [
    "claseTrue = 1\n",
    "clases = 5\n",
    "cont = 0\n",
    "for word in confusas_clase1:\n",
    "    print()\n",
    "    cont +=1\n",
    "    print(word)\n",
    "    for clase in range(1,clases + 1):\n",
    "        print(frecuencias.get((word,clase),0))\n",
    "        "
   ]
  },
  {
   "cell_type": "code",
   "execution_count": null,
   "metadata": {},
   "outputs": [],
   "source": [
    "claseTrue = 1\n",
    "clases = 5\n",
    "frecuenciasMod = frecuencias.copy()\n",
    "for word in confusas_clase1:\n",
    "    frecuenciasMod[word,claseTrue] = 1"
   ]
  },
  {
   "cell_type": "code",
   "execution_count": null,
   "metadata": {},
   "outputs": [],
   "source": [
    "claseTrue = 1\n",
    "clases = 5\n",
    "for word in confusas_clase1:\n",
    "    print()\n",
    "    print()\n",
    "    print(word)\n",
    "    for clase in range(1,clases + 1):\n",
    "        print(frecuencias.get((word,clase),0), end = \" \")\n",
    "        print(frecuenciasMod.get((word,clase),0), end = \" \")"
   ]
  },
  {
   "cell_type": "code",
   "execution_count": null,
   "metadata": {},
   "outputs": [],
   "source": []
  }
 ],
 "metadata": {
  "kernelspec": {
   "display_name": "Python 3",
   "language": "python",
   "name": "python3"
  },
  "language_info": {
   "codemirror_mode": {
    "name": "ipython",
    "version": 3
   },
   "file_extension": ".py",
   "mimetype": "text/x-python",
   "name": "python",
   "nbconvert_exporter": "python",
   "pygments_lexer": "ipython3",
   "version": "3.7.6"
  }
 },
 "nbformat": 4,
 "nbformat_minor": 4
}
