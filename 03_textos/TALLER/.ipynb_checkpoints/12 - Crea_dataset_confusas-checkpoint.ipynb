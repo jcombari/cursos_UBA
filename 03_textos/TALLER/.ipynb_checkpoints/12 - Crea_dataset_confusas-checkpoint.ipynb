{
 "cells": [
  {
   "cell_type": "code",
   "execution_count": 1,
   "metadata": {},
   "outputs": [],
   "source": [
    "from requests import get # la vamos a usar para solicitar la página mediante su URL \n",
    "from bs4 import BeautifulSoup # biblioteca para web scraping\n",
    "import pandas as pd\n",
    "import string                              \n",
    "from nltk.corpus import stopwords # para remover palabras que no agregan significado          \n",
    "from nltk.stem import PorterStemmer # para llevar las palabras a su forma raíz        \n",
    "from nltk.tokenize import TweetTokenizer # para transformar cada palabra en un token\n",
    "from IPython.display import clear_output\n",
    "from collections import defaultdict\n",
    "import numpy as np"
   ]
  },
  {
   "cell_type": "code",
   "execution_count": null,
   "metadata": {},
   "outputs": [
    {
     "name": "stdout",
     "output_type": "stream",
     "text": [
      "procesando https://en.wikipedia.org/wiki/Ancient_Egypt\n",
      "6 de 89\n"
     ]
    }
   ],
   "source": [
    "def etiquetas(palabras,frecuencias,clases):\n",
    "    import numpy as np\n",
    "    x = np.zeros((1, 6))\n",
    "    for palabra in palabras:\n",
    "        for t in clases:\n",
    "            x[0,t] += frecuencias.get((palabra, t),0)\n",
    "    x[0,0]=1\n",
    "    return x\n",
    "\n",
    "stop        = stopwords.words('english')\n",
    "tokenizer   = TweetTokenizer(preserve_case = False, strip_handles = True, reduce_len = True)\n",
    "stemmer     = PorterStemmer()\n",
    "webs        = pd.ExcelFile(\"WEBs.xls\")\n",
    "df          = webs.parse(\"Categorias\")\n",
    "textos      = pd.DataFrame(columns = [ 'Texto' , 'Clase'])\n",
    "clases_df   = set(df[\"CÓDIGO\"].value_counts().index)\n",
    "frecuencias = defaultdict(int)\n",
    "for i in df.index:\n",
    "    url       = df[\"URL\"][i]\n",
    "    pagina    = get(url)\n",
    "    html      = BeautifulSoup(pagina.text,\"html.parser\")\n",
    "    parrafos  = [ x.text.strip() for x in html.findAll(\"p\") if x.text != \"\\n\" ]\n",
    "    for p in parrafos:\n",
    "        palabras = p.split()\n",
    "        if 15 <= len(palabras):\n",
    "            clear_output( wait = True )\n",
    "            print(\"procesando {}\".format(url))\n",
    "            print(f\"{i} de {len(df)}\")\n",
    "            texto_tokens = tokenizer.tokenize(p)\n",
    "            texto_clean  = [ word for word in texto_tokens if word not in stop and word not in string.punctuation ]\n",
    "            texto_stem   = [ stemmer.stem(word) for word in texto_clean ]\n",
    "            for t in range(len(texto_stem)//20):\n",
    "                j = 20 * t\n",
    "                palabras  = texto_stem[ j : 20 * (t+1) ] \n",
    "                textos   = textos.append({'Texto' : palabras, 'Clase' : df[\"CÓDIGO\"][i] }, ignore_index = True)\n",
    "\n",
    "vocabulario = set([x for m in textos.index for x in textos.loc[m].Texto ])                \n",
    "clases_df   = set(df[\"CÓDIGO\"].value_counts().index)\n",
    "\n",
    "for i in textos.index:\n",
    "    for palabra in textos.loc[i].Texto:\n",
    "        frecuencias[(palabra, textos.loc[i].Clase)] += 1\n",
    "        clear_output( wait = True )\n",
    "        print(f\"Creando Frecuencias {i} de {len(textos)}\")\n",
    "\n",
    "for i in clases_df:\n",
    "    textos[f\"Clase{i}\"] = textos.Texto.apply(lambda x : etiquetas(x,frecuencias,clases_df)[0,i])\n",
    "print(\"dataset terminado\")\n",
    "print(textos.describe())"
   ]
  },
  {
   "cell_type": "code",
   "execution_count": null,
   "metadata": {},
   "outputs": [],
   "source": [
    "textos"
   ]
  },
  {
   "cell_type": "code",
   "execution_count": null,
   "metadata": {},
   "outputs": [],
   "source": [
    "textos.describe()"
   ]
  },
  {
   "cell_type": "code",
   "execution_count": null,
   "metadata": {},
   "outputs": [],
   "source": [
    "textos.info()"
   ]
  },
  {
   "cell_type": "code",
   "execution_count": null,
   "metadata": {},
   "outputs": [],
   "source": [
    "textos.to_csv(\"Historia.csv\")"
   ]
  },
  {
   "cell_type": "code",
   "execution_count": null,
   "metadata": {},
   "outputs": [],
   "source": [
    "import pandas as pd\n",
    "textos = pd.read_csv(\"Historia.csv\")\n",
    "textos = textos.iloc[:,1:]\n",
    "textos"
   ]
  },
  {
   "cell_type": "code",
   "execution_count": null,
   "metadata": {},
   "outputs": [],
   "source": [
    "textos.groupby(by=[\"Clase\"]).count()"
   ]
  },
  {
   "cell_type": "code",
   "execution_count": null,
   "metadata": {},
   "outputs": [],
   "source": [
    "textos.sample(10)"
   ]
  },
  {
   "cell_type": "code",
   "execution_count": null,
   "metadata": {},
   "outputs": [],
   "source": [
    "import pickle\n",
    "def save_obj(obj, name):\n",
    "       with open(name + '.pkl', 'wb') as f:\n",
    "           pickle.dump(obj, f, pickle.HIGHEST_PROTOCOL)\n",
    "\n",
    "def load_obj(name):\n",
    "       with open(name + '.pkl', 'rb') as f:\n",
    "           return pickle.load(f)"
   ]
  },
  {
   "cell_type": "code",
   "execution_count": null,
   "metadata": {},
   "outputs": [],
   "source": [
    "len(vocabulario)"
   ]
  },
  {
   "cell_type": "code",
   "execution_count": null,
   "metadata": {},
   "outputs": [],
   "source": [
    "len(frecuencias)"
   ]
  },
  {
   "cell_type": "code",
   "execution_count": null,
   "metadata": {},
   "outputs": [],
   "source": [
    "clases_df"
   ]
  },
  {
   "cell_type": "code",
   "execution_count": null,
   "metadata": {},
   "outputs": [],
   "source": [
    "save_obj(vocabulario, \"Vocabulario\")"
   ]
  },
  {
   "cell_type": "code",
   "execution_count": null,
   "metadata": {},
   "outputs": [],
   "source": [
    "save_obj(frecuencias, \"Frecuencias\")"
   ]
  },
  {
   "cell_type": "code",
   "execution_count": null,
   "metadata": {},
   "outputs": [],
   "source": [
    "save_obj(clases_df, \"clases_df\")"
   ]
  },
  {
   "cell_type": "code",
   "execution_count": null,
   "metadata": {},
   "outputs": [],
   "source": []
  },
  {
   "cell_type": "code",
   "execution_count": null,
   "metadata": {},
   "outputs": [],
   "source": []
  },
  {
   "cell_type": "code",
   "execution_count": null,
   "metadata": {},
   "outputs": [],
   "source": [
    "textos.sample(10)"
   ]
  },
  {
   "cell_type": "code",
   "execution_count": null,
   "metadata": {},
   "outputs": [],
   "source": [
    "int(np.argmax(textos.iloc[3337,-5:].values)) + 1"
   ]
  },
  {
   "cell_type": "code",
   "execution_count": null,
   "metadata": {},
   "outputs": [],
   "source": [
    "int(textos.iloc[14317,1:2].values)"
   ]
  },
  {
   "cell_type": "code",
   "execution_count": null,
   "metadata": {},
   "outputs": [],
   "source": [
    "int(np.argmax(textos.iloc[1621,-5:].values)) + 1 == int(textos.iloc[1621,1:2].values)"
   ]
  },
  {
   "cell_type": "code",
   "execution_count": null,
   "metadata": {},
   "outputs": [],
   "source": [
    "textos.sample(10)"
   ]
  },
  {
   "cell_type": "code",
   "execution_count": null,
   "metadata": {},
   "outputs": [],
   "source": [
    "i = 3\n",
    "int(np.argmax(textos.iloc[i,-6:].values)) == int(textos.iloc[i,1:2].values)"
   ]
  },
  {
   "cell_type": "code",
   "execution_count": null,
   "metadata": {},
   "outputs": [],
   "source": [
    "int(np.argmax(textos.iloc[i,-5:].values) + 1)"
   ]
  },
  {
   "cell_type": "code",
   "execution_count": null,
   "metadata": {},
   "outputs": [],
   "source": [
    "textos.iloc[i,-6:].values"
   ]
  },
  {
   "cell_type": "code",
   "execution_count": null,
   "metadata": {},
   "outputs": [],
   "source": [
    "textos[\"Clase1\"][0]"
   ]
  },
  {
   "cell_type": "code",
   "execution_count": null,
   "metadata": {},
   "outputs": [],
   "source": [
    "# textos = textos.iloc[:10,:]\n",
    "textos"
   ]
  },
  {
   "cell_type": "code",
   "execution_count": null,
   "metadata": {},
   "outputs": [],
   "source": [
    "textos[\"FreqOK\"] = None\n",
    "textos"
   ]
  },
  {
   "cell_type": "code",
   "execution_count": null,
   "metadata": {},
   "outputs": [],
   "source": [
    "for i in textos.index:\n",
    "    textos[\"FreqOK\"][i] = int(np.argmax(textos.iloc[i,-6:-1].values)) + 1 == int(textos.iloc[i,1:2].values)\n",
    "    # print((np.argmax(textos.iloc[i,-6:-1].values)) + 1 == int(textos.iloc[i,1:2].values))\n",
    "textos    "
   ]
  },
  {
   "cell_type": "code",
   "execution_count": null,
   "metadata": {},
   "outputs": [],
   "source": [
    "textos.sample(10)"
   ]
  },
  {
   "cell_type": "code",
   "execution_count": null,
   "metadata": {},
   "outputs": [],
   "source": [
    "textos.sort_values(by=['FreqOK'])\n",
    "textos"
   ]
  },
  {
   "cell_type": "code",
   "execution_count": null,
   "metadata": {},
   "outputs": [],
   "source": [
    "textos.groupby(by=[\"FreqOK\"]).count()"
   ]
  },
  {
   "cell_type": "code",
   "execution_count": null,
   "metadata": {},
   "outputs": [],
   "source": [
    "textosF = textos[textos['FreqOK'] == False]\n",
    "textosF"
   ]
  },
  {
   "cell_type": "code",
   "execution_count": null,
   "metadata": {},
   "outputs": [],
   "source": [
    "textosF.groupby(by=[\"Clase\"]).count()"
   ]
  },
  {
   "cell_type": "code",
   "execution_count": null,
   "metadata": {},
   "outputs": [],
   "source": [
    "textosF1 = textosF[textosF['Clase'] == 1]\n",
    "textosF1"
   ]
  },
  {
   "cell_type": "code",
   "execution_count": null,
   "metadata": {},
   "outputs": [],
   "source": [
    "claseMax = np.argmax(textosF1.iloc[0,-6:-1].values) + 1\n",
    "claseMax"
   ]
  },
  {
   "cell_type": "code",
   "execution_count": null,
   "metadata": {},
   "outputs": [],
   "source": [
    "textosF1[\"ClasMax\"] = None\n",
    "textosF1"
   ]
  },
  {
   "cell_type": "code",
   "execution_count": null,
   "metadata": {},
   "outputs": [],
   "source": [
    "indice = 0\n",
    "for i in textosF1.index:\n",
    "    textosF1[\"ClasMax\"][i] = np.argmax(textosF1.iloc[indice,-7:-2].values) + 1\n",
    "    indice +=1\n",
    "textosF1.head(11)    "
   ]
  },
  {
   "cell_type": "code",
   "execution_count": null,
   "metadata": {},
   "outputs": [],
   "source": [
    "textosF1.sample(10)    "
   ]
  },
  {
   "cell_type": "code",
   "execution_count": null,
   "metadata": {},
   "outputs": [],
   "source": [
    "frecuencias = load_obj(\"Frecuencias\")"
   ]
  },
  {
   "cell_type": "code",
   "execution_count": null,
   "metadata": {},
   "outputs": [],
   "source": [
    "vocabulario = load_obj(\"Vocabulario\")"
   ]
  },
  {
   "cell_type": "code",
   "execution_count": null,
   "metadata": {},
   "outputs": [],
   "source": [
    "claseTrue = 1\n",
    "clases = 5\n",
    "palabrasConfusas = []\n",
    "# indice = 0\n",
    "totalPalabras = 0\n",
    "for i in textosF1.index:\n",
    "    \"\"\"\n",
    "    if indice > 1:\n",
    "        break\"\"\"\n",
    "    \n",
    "    w = 0        \n",
    "    for word in textosF1.loc[i,\"Texto\"].split():\n",
    "        freqWord = []\n",
    "        for k in range(clases + 1):\n",
    "            freqWord.append(0)\n",
    "        if w == 0:\n",
    "            word = word[2:-2]\n",
    "        else:   \n",
    "            word = word[1:-2]\n",
    "        w += 1                  \n",
    "        if word in vocabulario:\n",
    "            for k in range(1, len(freqWord)):\n",
    "                print(word,\"clase \",k,frecuencias[(word,k)])\n",
    "                freqWord[k] = frecuencias[(word,k)]\n",
    "        print(freqWord)    \n",
    "        print(np.argmax(freqWord))\n",
    "        print(np.argmax(freqWord) == claseTrue)        \n",
    "        if np.argmax(freqWord) != claseTrue:\n",
    "            palabrasConfusas.append(word)\n",
    "        totalPalabras += w        \n",
    "    indice += 1\n",
    "print(\"palabras\",totalPalabras)\n",
    "print(\"confusas\",len(palabrasConfusas))\n",
    "palabrasConfusas"
   ]
  },
  {
   "cell_type": "code",
   "execution_count": null,
   "metadata": {},
   "outputs": [],
   "source": [
    "claseTrue = 1\n",
    "clases = 5\n",
    "\n",
    "for word in palabrasConfusas:\n",
    "    freqWord = []\n",
    "    for k in range(clases + 1):\n",
    "        freqWord.append(0)\n",
    "    if word in vocabulario:\n",
    "        print()                                  \n",
    "        for i in range(1,6):\n",
    "            print(word,\"clase \",i,frecuencias[(word,i)]) \n",
    "            freqWord[i] = frecuencias[(word,i)]\n",
    "        print(freqWord)    \n",
    "        print(np.argmax(freqWord))\n",
    "        print(np.argmax(freqWord) == claseTrue)\n",
    "palabrasConfusas        "
   ]
  },
  {
   "cell_type": "code",
   "execution_count": null,
   "metadata": {},
   "outputs": [],
   "source": [
    "if 'bronz' in vocabulario:\n",
    "        print(\"está\")"
   ]
  },
  {
   "cell_type": "code",
   "execution_count": null,
   "metadata": {},
   "outputs": [],
   "source": [
    "print(frecuencias)"
   ]
  },
  {
   "cell_type": "code",
   "execution_count": null,
   "metadata": {},
   "outputs": [],
   "source": [
    "len(palabrasConfusas)"
   ]
  },
  {
   "cell_type": "code",
   "execution_count": null,
   "metadata": {},
   "outputs": [],
   "source": [
    "for word in palabrasConfusas:\n",
    "    if word in vocabulario:\n",
    "        print()                                  \n",
    "        for i in range(1,6):\n",
    "            print(word,\"clase \",i,frecuencias[(word,i)]) \n",
    "            freqWord[i] = frecuencias[(word,i)]\n",
    "        print(freqWord)    \n",
    "        print(np.argmax(freqWord))\n",
    "        print(np.argmax(freqWord) == claseTrue)\n",
    "        print(\"Maximo\", freqWord[np.argmax(freqWord)],\"Clase\",np.argmax(freqWord))\n",
    "palabrasConfusas        "
   ]
  },
  {
   "cell_type": "code",
   "execution_count": null,
   "metadata": {},
   "outputs": [],
   "source": [
    "confusas = pd.DataFrame(columns = ['Palabra' , 'Clase','FrecClase','ClaseMax','FrecMax'])"
   ]
  },
  {
   "cell_type": "code",
   "execution_count": null,
   "metadata": {},
   "outputs": [],
   "source": [
    "for word in palabrasConfusas:\n",
    "    if word in vocabulario: \n",
    "        freqWord = []\n",
    "        for k in range(clases + 1):\n",
    "            freqWord.append(0)\n",
    "        for i in range(1,6):\n",
    "            freqWord[i] = frecuencias[(word,i)]\n",
    "        confusas = confusas.append({'Palabra' : word, 'Clase' : claseTrue ,'FrecClase' : freqWord[claseTrue], 'ClaseMax' : np.argmax(freqWord),'FrecMax' : freqWord[np.argmax(freqWord)] }, ignore_index = True)        \n",
    "confusas"
   ]
  },
  {
   "cell_type": "code",
   "execution_count": null,
   "metadata": {},
   "outputs": [],
   "source": [
    "confusas.to_csv(\"Palabras_Confusas.csv\")"
   ]
  },
  {
   "cell_type": "code",
   "execution_count": null,
   "metadata": {},
   "outputs": [],
   "source": [
    "import pandas as pd\n",
    "confusas = pd.read_csv(\"Palabras_Confusas.csv\")\n",
    "confusas"
   ]
  },
  {
   "cell_type": "code",
   "execution_count": null,
   "metadata": {},
   "outputs": [],
   "source": [
    "confusas = confusas.iloc[:,1:]\n",
    "confusas"
   ]
  },
  {
   "cell_type": "code",
   "execution_count": null,
   "metadata": {},
   "outputs": [],
   "source": [
    "confusas[\"Porcentaje\"] = 100 * confusas[\"FrecClase\"] / confusas[\"FrecMax\"]\n",
    "confusas"
   ]
  },
  {
   "cell_type": "code",
   "execution_count": null,
   "metadata": {},
   "outputs": [],
   "source": [
    "confusas[\"Decenas\"] = confusas[\"Porcentaje\"] // 10\n",
    "confusas"
   ]
  },
  {
   "cell_type": "code",
   "execution_count": null,
   "metadata": {},
   "outputs": [],
   "source": [
    "confusas.groupby(by=[\"Decenas\"]).count()"
   ]
  },
  {
   "cell_type": "code",
   "execution_count": null,
   "metadata": {},
   "outputs": [],
   "source": [
    "confusas_clase1 = []\n",
    "for i in confusas.index:\n",
    "    if confusas[\"Decenas\"][i] < 2:\n",
    "        confusas_clase1.append(confusas[\"Palabra\"][i])\n",
    "len(confusas_clase1)        "
   ]
  },
  {
   "cell_type": "code",
   "execution_count": null,
   "metadata": {},
   "outputs": [],
   "source": [
    "confusas_clase1"
   ]
  },
  {
   "cell_type": "code",
   "execution_count": null,
   "metadata": {},
   "outputs": [],
   "source": [
    "frecuencias"
   ]
  },
  {
   "cell_type": "code",
   "execution_count": null,
   "metadata": {},
   "outputs": [],
   "source": [
    "claseTrue = 1\n",
    "clases = 5\n",
    "cont = 0\n",
    "for word in confusas_clase1:\n",
    "    print()\n",
    "    cont +=1\n",
    "    print(word)\n",
    "    for clase in range(1,clases + 1):\n",
    "        print(frecuencias.get((word,clase),0))\n",
    "        "
   ]
  },
  {
   "cell_type": "code",
   "execution_count": null,
   "metadata": {},
   "outputs": [],
   "source": [
    "claseTrue = 1\n",
    "clases = 5\n",
    "frecuenciasMod = frecuencias.copy()\n",
    "for word in confusas_clase1:\n",
    "    frecuenciasMod[word,claseTrue] = 1"
   ]
  },
  {
   "cell_type": "code",
   "execution_count": null,
   "metadata": {},
   "outputs": [],
   "source": [
    "claseTrue = 1\n",
    "clases = 5\n",
    "for word in confusas_clase1:\n",
    "    print()\n",
    "    print()\n",
    "    print(word)\n",
    "    for clase in range(1,clases + 1):\n",
    "        print(frecuencias.get((word,clase),0), end = \" \")\n",
    "    print()    \n",
    "    for clase in range(1,clases + 1):\n",
    "        print(frecuenciasMod.get((word,clase),0), end = \" \")"
   ]
  },
  {
   "cell_type": "code",
   "execution_count": null,
   "metadata": {},
   "outputs": [],
   "source": []
  }
 ],
 "metadata": {
  "kernelspec": {
   "display_name": "Python 3",
   "language": "python",
   "name": "python3"
  },
  "language_info": {
   "codemirror_mode": {
    "name": "ipython",
    "version": 3
   },
   "file_extension": ".py",
   "mimetype": "text/x-python",
   "name": "python",
   "nbconvert_exporter": "python",
   "pygments_lexer": "ipython3",
   "version": "3.7.6"
  }
 },
 "nbformat": 4,
 "nbformat_minor": 4
}
