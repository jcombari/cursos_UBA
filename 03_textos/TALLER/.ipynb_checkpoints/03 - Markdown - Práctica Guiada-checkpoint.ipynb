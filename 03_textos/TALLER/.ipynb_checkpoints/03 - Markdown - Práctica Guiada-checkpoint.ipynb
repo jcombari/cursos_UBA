{
 "cells": [
  {
   "cell_type": "markdown",
   "metadata": {},
   "source": [
    "###### Propiedades de Markdown"
   ]
  },
  {
   "cell_type": "markdown",
   "metadata": {},
   "source": [
    "## Texto resaltado (negrita)\n",
    "\n",
    "probando la **negrita....**  ¿Anduvo?"
   ]
  },
  {
   "cell_type": "markdown",
   "metadata": {},
   "source": [
    "## Itálica\n",
    "\n",
    "se puede escribir también en *itálica* poniendo un solo asterisco\n"
   ]
  },
  {
   "cell_type": "markdown",
   "metadata": {},
   "source": [
    "## Listas desordenadas\n",
    "\n",
    "- casa\n",
    "- perro \n",
    "- auto.\n"
   ]
  },
  {
   "cell_type": "markdown",
   "metadata": {},
   "source": [
    "## Listas ordenadas\n",
    "\n",
    "1. casa\n",
    "2. perro \n",
    "3. auto\n",
    "5. gato\n",
    "10. pepe\n",
    "1. Hola"
   ]
  },
  {
   "cell_type": "markdown",
   "metadata": {},
   "source": [
    "## Enlaces (links) \n",
    "\n",
    "[GITHUB del Centro de Graduados FIUBA](https://github.com/Backpropagation-Limitada)"
   ]
  },
  {
   "cell_type": "markdown",
   "metadata": {},
   "source": [
    "## Imágenes\n",
    "\n",
    "![BELÉN](belen.jpg \"A Belén le gustan los gatitos\")"
   ]
  },
  {
   "cell_type": "markdown",
   "metadata": {},
   "source": [
    "## Citas\n",
    "\n",
    "> \"El único usuario bueno es el usuario muerto\"\n",
    ">\n",
    "> [Ángel \"JAVA\" López] (https://github.com/ajlopez)"
   ]
  },
  {
   "cell_type": "markdown",
   "metadata": {},
   "source": [
    "## Línea horizontal\n",
    "\n",
    "---\n",
    "\n",
    "___\n",
    "\n",
    "***\n",
    "\n"
   ]
  },
  {
   "cell_type": "markdown",
   "metadata": {},
   "source": [
    "## Tablas\n",
    "\n",
    "|tables|are |cool| \n",
    "|----|:----:|----:|\n",
    "|col 3 is|right-alined|1600| \n",
    "|col 2 is |centered|12|\n",
    "|zebras are|neat|1|"
   ]
  },
  {
   "cell_type": "markdown",
   "metadata": {},
   "source": [
    "## Como poner código Python en markdwon \n",
    "\n",
    "::python\n",
    "`import numpy as np`"
   ]
  },
  {
   "cell_type": "markdown",
   "metadata": {},
   "source": [
    "    :::python\n",
    "    import lifetime"
   ]
  },
  {
   "cell_type": "markdown",
   "metadata": {},
   "source": [
    "::python\n",
    "import numpy as np"
   ]
  },
  {
   "cell_type": "markdown",
   "metadata": {},
   "source": [
    ":::python\n",
    "print('hello world')"
   ]
  },
  {
   "cell_type": "markdown",
   "metadata": {},
   "source": [
    "# LÁTEX"
   ]
  },
  {
   "cell_type": "markdown",
   "metadata": {},
   "source": [
    "$\\frac{x^2+1}{x-1}$."
   ]
  },
  {
   "cell_type": "markdown",
   "metadata": {},
   "source": [
    "Si sumamos $x$ con $y$, obtenemos:\n",
    "$$x+y=z$$"
   ]
  },
  {
   "cell_type": "code",
   "execution_count": null,
   "metadata": {},
   "outputs": [],
   "source": []
  }
 ],
 "metadata": {
  "kernelspec": {
   "display_name": "Python 3",
   "language": "python",
   "name": "python3"
  },
  "language_info": {
   "codemirror_mode": {
    "name": "ipython",
    "version": 3
   },
   "file_extension": ".py",
   "mimetype": "text/x-python",
   "name": "python",
   "nbconvert_exporter": "python",
   "pygments_lexer": "ipython3",
   "version": "3.7.6"
  }
 },
 "nbformat": 4,
 "nbformat_minor": 2
}
