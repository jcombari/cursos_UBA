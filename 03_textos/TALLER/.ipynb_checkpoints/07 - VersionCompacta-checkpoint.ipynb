{
 "cells": [
  {
   "cell_type": "code",
   "execution_count": null,
   "metadata": {},
   "outputs": [],
   "source": [
    "from requests import get\n",
    "from bs4 import BeautifulSoup\n",
    "import pandas as pd\n",
    "import string                              \n",
    "from nltk.corpus import stopwords          \n",
    "from nltk.stem import PorterStemmer        \n",
    "from nltk.tokenize import TweetTokenizer \n",
    "\n",
    "stopwords_english = stopwords.words('english')\n",
    "\n",
    "tokenizer = TweetTokenizer(preserve_case = False, \n",
    "                           strip_handles = True,\n",
    "                           reduce_len    = True)\n",
    "stemmer = PorterStemmer()\n",
    "\n",
    "webs    = pd.ExcelFile(\"Webs.xls\")\n",
    "df      = webs.parse(\"Categorias\")\n",
    "textos = pd.DataFrame(columns=['Texto','Longitud' ,'Clase'])\n",
    "for i in df.index:\n",
    "    url       = df[\"URL\"][i]\n",
    "    pagina    = get(url)\n",
    "    html      = BeautifulSoup(pagina.text,\"html.parser\")\n",
    "    parrafos  = [x.text.strip() for x in html.findAll(\"p\") if x.text != \"\\n\"]\n",
    "    for p in parrafos:\n",
    "        if 15 < len(p.split()) < 150:\n",
    "            texto_tokens = tokenizer.tokenize(p)\n",
    "            texto_clean  = [ word for word in texto_tokens if\n",
    "                            word not in stopwords_english and\n",
    "                            word not in string.punctuation]\n",
    "            texto_stem   = [stemmer.stem(word) for word in texto_clean]\n",
    "            textos = textos.append({'Texto': texto_stem, 'Longitud': len(texto_stem),'Clase':df[\"CÓDIGO\"][i]}, ignore_index=True)"
   ]
  },
  {
   "cell_type": "code",
   "execution_count": null,
   "metadata": {},
   "outputs": [],
   "source": [
    "textosBack = textos"
   ]
  },
  {
   "cell_type": "code",
   "execution_count": null,
   "metadata": {},
   "outputs": [],
   "source": [
    "textos"
   ]
  },
  {
   "cell_type": "code",
   "execution_count": null,
   "metadata": {},
   "outputs": [],
   "source": [
    "textos.tail(500)"
   ]
  },
  {
   "cell_type": "code",
   "execution_count": null,
   "metadata": {},
   "outputs": [],
   "source": [
    "textos.describe()"
   ]
  },
  {
   "cell_type": "code",
   "execution_count": null,
   "metadata": {},
   "outputs": [],
   "source": [
    "textos.groupby(by=[\"Clase\"]).count()"
   ]
  },
  {
   "cell_type": "code",
   "execution_count": null,
   "metadata": {},
   "outputs": [],
   "source": [
    "textos =  textos.sort_values('Longitud',ascending = True)\n",
    "textos.tail(500)"
   ]
  },
  {
   "cell_type": "code",
   "execution_count": null,
   "metadata": {},
   "outputs": [],
   "source": [
    "textos = textos.drop(textos[textos['Longitud'] < 20].index)\n",
    "textos.groupby(by=[\"Clase\"]).count()"
   ]
  },
  {
   "cell_type": "code",
   "execution_count": null,
   "metadata": {},
   "outputs": [],
   "source": [
    "textos.to_csv(\"Historia.csv\")"
   ]
  },
  {
   "cell_type": "code",
   "execution_count": null,
   "metadata": {},
   "outputs": [],
   "source": [
    "textos = textos.sort_index()"
   ]
  },
  {
   "cell_type": "code",
   "execution_count": null,
   "metadata": {},
   "outputs": [],
   "source": [
    "textos.head(100)"
   ]
  },
  {
   "cell_type": "code",
   "execution_count": null,
   "metadata": {},
   "outputs": [],
   "source": [
    "textos20 = pd.DataFrame(columns=['Texto','Longitud' ,'Clase'])\n",
    "for i in textos.index:    \n",
    "    largo = textos.loc[i,'Longitud']    \n",
    "    # print(i)    \n",
    "    # print(largo)\n",
    "    partes = largo // 20\n",
    "    indice = 0\n",
    "    texto = textos.loc[i,'Texto']\n",
    "    for k in range(partes):\n",
    "        texto20 = []\n",
    "        for j in range(20):\n",
    "             texto20.append(texto[20 * k + j])\n",
    "        textos20 = textos20.append({'Texto': texto20, 'Longitud': len(texto20),'Clase':textos[\"Clase\"][i]}, ignore_index=True)        "
   ]
  },
  {
   "cell_type": "code",
   "execution_count": null,
   "metadata": {},
   "outputs": [],
   "source": [
    "textos"
   ]
  },
  {
   "cell_type": "code",
   "execution_count": null,
   "metadata": {},
   "outputs": [],
   "source": [
    "textos20"
   ]
  },
  {
   "cell_type": "code",
   "execution_count": null,
   "metadata": {},
   "outputs": [],
   "source": [
    "textos20.to_csv(\"Historia20.csv\")"
   ]
  },
  {
   "cell_type": "code",
   "execution_count": null,
   "metadata": {},
   "outputs": [],
   "source": [
    "textos20.groupby(by=[\"Clase\"]).count()"
   ]
  },
  {
   "cell_type": "code",
   "execution_count": null,
   "metadata": {},
   "outputs": [],
   "source": [
    "textos20.describe()"
   ]
  },
  {
   "cell_type": "code",
   "execution_count": null,
   "metadata": {},
   "outputs": [],
   "source": [
    "textosLargo = textos.drop(\"Texto\", axis = 1)\n",
    "textosLargo"
   ]
  },
  {
   "cell_type": "code",
   "execution_count": null,
   "metadata": {},
   "outputs": [],
   "source": [
    "textosLargo.describe()"
   ]
  },
  {
   "cell_type": "code",
   "execution_count": null,
   "metadata": {},
   "outputs": [],
   "source": [
    "textos.groupby(by=[\"Longitud\"]).count().head(50)"
   ]
  },
  {
   "cell_type": "code",
   "execution_count": null,
   "metadata": {},
   "outputs": [],
   "source": [
    "textos[\"partesde20\"] = textos[\"Longitud\"] // 20"
   ]
  },
  {
   "cell_type": "code",
   "execution_count": null,
   "metadata": {},
   "outputs": [],
   "source": [
    "textos.sample(10)"
   ]
  },
  {
   "cell_type": "code",
   "execution_count": null,
   "metadata": {},
   "outputs": [],
   "source": [
    "textos[\"partesde20\"].sum()"
   ]
  },
  {
   "cell_type": "code",
   "execution_count": null,
   "metadata": {},
   "outputs": [],
   "source": [
    "textos.groupby(by=[\"partesde20\"]).count()"
   ]
  }
 ],
 "metadata": {
  "kernelspec": {
   "display_name": "Python 3",
   "language": "python",
   "name": "python3"
  },
  "language_info": {
   "codemirror_mode": {
    "name": "ipython",
    "version": 3
   },
   "file_extension": ".py",
   "mimetype": "text/x-python",
   "name": "python",
   "nbconvert_exporter": "python",
   "pygments_lexer": "ipython3",
   "version": "3.7.6"
  }
 },
 "nbformat": 4,
 "nbformat_minor": 4
}
