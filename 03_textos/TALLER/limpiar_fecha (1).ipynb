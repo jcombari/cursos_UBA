{
 "cells": [
  {
   "cell_type": "code",
   "execution_count": 173,
   "metadata": {},
   "outputs": [],
   "source": [
    "def limpiar_edad(st):\n",
    "    #if type(st) == str: \n",
    "    #    st = st.split()\n",
    "    #if type(st) not in {list,tuple}: return st\n",
    "    res = []\n",
    "    \n",
    "    st = st.replace(\"(\",\"\").replace(\")\",\"\").replace(\",\",\"\")\n",
    "    for t in range(100):\n",
    "        st = st.replace(\"[\" + str(t) + \"]\", \"\")\n",
    "    for letra in [\"a\",\"b\",\"c\"]:\n",
    "        st = st.replace(\"[\" + letra + \"]\", \"\")\n",
    "    st = st.split()\n",
    "    for i in range(len(st)-1):\n",
    "        if st[i].isdecimal() and ( st[i+1].lower() == \"ad\" or \n",
    "                                   st[i+1].lower() == \"bc\" or \n",
    "                                   st[i+1].lower() == \"ac\" or \n",
    "                                   st[i+1].lower() == \"dc\" or\n",
    "                                   st[i+1].lower() == \"ad.\" or \n",
    "                                   st[i+1].lower() == \"bc.\" or \n",
    "                                   st[i+1].lower() == \"ac.\" or \n",
    "                                   st[i+1].lower() == \"dc.\"):\n",
    "            res.append(\"\".join([st[i],st[i+1]]))\n",
    "        elif st[i] not in res and st[i].lower() not in {\"ad\",\"bc\",\"ac\",\"dc\"}:\n",
    "            res.append(st[i])\n",
    "    if st[-1] not in res  and st[-1].lower() not in {\"ad\",\"bc\",\"ac\",\"dc\",\"ad.\",\"bc.\",\"ac.\",\"dc.\"}: \n",
    "        res.append(st[-1])\n",
    "    return \" \".join(res)"
   ]
  },
  {
   "cell_type": "code",
   "execution_count": 175,
   "metadata": {},
   "outputs": [],
   "source": [
    "lis=\"Cuando se lee un texto en inglés (sobre algún tema histórico principalmente),se puede encontrar ante las \n",
    "abreviaturas BC; AD; mismas que se traducen al español como antes de Cristo; después de Cristo, respectivamente.\n",
    "500 AD es lo mismo que 500 ac o 1500 dc seria 1500 BC.\""
   ]
  },
  {
   "cell_type": "code",
   "execution_count": 176,
   "metadata": {},
   "outputs": [
    {
     "data": {
      "text/plain": [
       "'Cuando se lee un texto en inglés sobre algún tema histórico principalmentese puede encontrar ante las abreviaturas BC; AD; mismas que traducen al español como antes de Cristo; después Cristo respectivamente. 500AD es lo mismo 500ac o 1500dc seria 1500BC.'"
      ]
     },
     "execution_count": 176,
     "metadata": {},
     "output_type": "execute_result"
    }
   ],
   "source": [
    "limpiar_edad(lis)"
   ]
  },
  {
   "cell_type": "code",
   "execution_count": null,
   "metadata": {},
   "outputs": [],
   "source": []
  },
  {
   "cell_type": "code",
   "execution_count": 177,
   "metadata": {},
   "outputs": [
    {
     "data": {
      "text/plain": [
       "1"
      ]
     },
     "execution_count": 177,
     "metadata": {},
     "output_type": "execute_result"
    }
   ],
   "source": [
    "len(\"\\n\")"
   ]
  },
  {
   "cell_type": "code",
   "execution_count": 178,
   "metadata": {},
   "outputs": [
    {
     "data": {
      "text/plain": [
       "\"a in 42BC. BC. campaign against Parthia but his assassination averted the war. During ensuing Liberators' civil war Parthians actively supported Brutus and Cassius sending contingent which fought with them at Battle of Philippi 42BC.\""
      ]
     },
     "execution_count": 178,
     "metadata": {},
     "output_type": "execute_result"
    }
   ],
   "source": [
    "limpiar_edad(\"a in 42 BC. campaign against Parthia, but his assassination averted the war. During the ensuing Liberators' civil war, the Parthians actively supported Brutus and Cassius, sending a contingent which fought with them at the Battle of Philippi in 42 BC.[11]\\n\")"
   ]
  },
  {
   "cell_type": "code",
   "execution_count": null,
   "metadata": {},
   "outputs": [],
   "source": []
  }
 ],
 "metadata": {
  "kernelspec": {
   "display_name": "Python 3",
   "language": "python",
   "name": "python3"
  },
  "language_info": {
   "codemirror_mode": {
    "name": "ipython",
    "version": 3
   },
   "file_extension": ".py",
   "mimetype": "text/x-python",
   "name": "python",
   "nbconvert_exporter": "python",
   "pygments_lexer": "ipython3",
   "version": "3.7.6"
  }
 },
 "nbformat": 4,
 "nbformat_minor": 4
}
