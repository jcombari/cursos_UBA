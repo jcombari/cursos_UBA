{
 "cells": [
  {
   "cell_type": "code",
   "execution_count": 1,
   "metadata": {
    "colab": {
     "base_uri": "https://localhost:8080/"
    },
    "executionInfo": {
     "elapsed": 27833,
     "status": "ok",
     "timestamp": 1608569361122,
     "user": {
      "displayName": "Ariel Alegre",
      "photoUrl": "",
      "userId": "12007187886001339528"
     },
     "user_tz": 180
    },
    "id": "YPME1nMcZIm6",
    "outputId": "058b0c09-ca6c-40f1-92fe-2e7e4225fda6"
   },
   "outputs": [
    {
     "name": "stdout",
     "output_type": "stream",
     "text": [
      "Mounted at /content/drive/\n"
     ]
    }
   ],
   "source": [
    "from google.colab import drive\n",
    "drive.mount('/content/drive/') # montar google drive como filesystem"
   ]
  },
  {
   "cell_type": "code",
   "execution_count": 2,
   "metadata": {
    "executionInfo": {
     "elapsed": 2101,
     "status": "ok",
     "timestamp": 1608569365280,
     "user": {
      "displayName": "Ariel Alegre",
      "photoUrl": "",
      "userId": "12007187886001339528"
     },
     "user_tz": 180
    },
    "id": "471ANd20ayxn"
   },
   "outputs": [],
   "source": [
    "import pandas as pd\n",
    "import numpy as np\n",
    "from sklearn.model_selection import train_test_split"
   ]
  },
  {
   "cell_type": "code",
   "execution_count": 3,
   "metadata": {
    "executionInfo": {
     "elapsed": 2056,
     "status": "ok",
     "timestamp": 1608569366895,
     "user": {
      "displayName": "Ariel Alegre",
      "photoUrl": "",
      "userId": "12007187886001339528"
     },
     "user_tz": 180
    },
    "id": "ad7hMDHAasI4"
   },
   "outputs": [],
   "source": [
    "data=pd.read_csv(\"/content/drive/MyDrive/DEEP LEARNING - ESPECIALIZACION  -COURSERA/NLP/Historia.csv\")# cargar un csv a dataframe de pandas"
   ]
  },
  {
   "cell_type": "code",
   "execution_count": 4,
   "metadata": {
    "colab": {
     "base_uri": "https://localhost:8080/",
     "height": 254
    },
    "executionInfo": {
     "elapsed": 776,
     "status": "ok",
     "timestamp": 1608569367324,
     "user": {
      "displayName": "Ariel Alegre",
      "photoUrl": "",
      "userId": "12007187886001339528"
     },
     "user_tz": 180
    },
    "id": "3TiBfknkaxDP",
    "outputId": "e316370b-992d-45bb-e50a-d1359928c7c1"
   },
   "outputs": [
    {
     "data": {
      "text/html": [
       "<div>\n",
       "<style scoped>\n",
       "    .dataframe tbody tr th:only-of-type {\n",
       "        vertical-align: middle;\n",
       "    }\n",
       "\n",
       "    .dataframe tbody tr th {\n",
       "        vertical-align: top;\n",
       "    }\n",
       "\n",
       "    .dataframe thead th {\n",
       "        text-align: right;\n",
       "    }\n",
       "</style>\n",
       "<table border=\"1\" class=\"dataframe\">\n",
       "  <thead>\n",
       "    <tr style=\"text-align: right;\">\n",
       "      <th></th>\n",
       "      <th>Unnamed: 0</th>\n",
       "      <th>Texto</th>\n",
       "      <th>Clase</th>\n",
       "      <th>Clase1</th>\n",
       "      <th>Clase2</th>\n",
       "      <th>Clase3</th>\n",
       "      <th>Clase4</th>\n",
       "      <th>Clase5</th>\n",
       "    </tr>\n",
       "  </thead>\n",
       "  <tbody>\n",
       "    <tr>\n",
       "      <th>0</th>\n",
       "      <td>0</td>\n",
       "      <td>['alexand', 'iii', 'macedon', 'greek', 'αλέξαν...</td>\n",
       "      <td>1</td>\n",
       "      <td>1266.0</td>\n",
       "      <td>468.0</td>\n",
       "      <td>459.0</td>\n",
       "      <td>317.0</td>\n",
       "      <td>462.0</td>\n",
       "    </tr>\n",
       "    <tr>\n",
       "      <th>1</th>\n",
       "      <td>1</td>\n",
       "      <td>['bc', 'commonli', 'known', 'alexand', 'great'...</td>\n",
       "      <td>1</td>\n",
       "      <td>2073.0</td>\n",
       "      <td>1007.0</td>\n",
       "      <td>740.0</td>\n",
       "      <td>279.0</td>\n",
       "      <td>522.0</td>\n",
       "    </tr>\n",
       "    <tr>\n",
       "      <th>2</th>\n",
       "      <td>2</td>\n",
       "      <td>['pella', '356', 'bc', 'succeed', 'father', 'p...</td>\n",
       "      <td>1</td>\n",
       "      <td>1457.0</td>\n",
       "      <td>1144.0</td>\n",
       "      <td>1209.0</td>\n",
       "      <td>697.0</td>\n",
       "      <td>1348.0</td>\n",
       "    </tr>\n",
       "    <tr>\n",
       "      <th>3</th>\n",
       "      <td>3</td>\n",
       "      <td>['age', 'thirti', 'creat', 'one', 'largest', '...</td>\n",
       "      <td>1</td>\n",
       "      <td>1272.0</td>\n",
       "      <td>1307.0</td>\n",
       "      <td>1024.0</td>\n",
       "      <td>829.0</td>\n",
       "      <td>1088.0</td>\n",
       "    </tr>\n",
       "    <tr>\n",
       "      <th>4</th>\n",
       "      <td>4</td>\n",
       "      <td>['youth', 'alexand', 'tutor', 'aristotl', 'age...</td>\n",
       "      <td>1</td>\n",
       "      <td>1497.0</td>\n",
       "      <td>694.0</td>\n",
       "      <td>623.0</td>\n",
       "      <td>485.0</td>\n",
       "      <td>579.0</td>\n",
       "    </tr>\n",
       "  </tbody>\n",
       "</table>\n",
       "</div>"
      ],
      "text/plain": [
       "   Unnamed: 0  ...  Clase5\n",
       "0           0  ...   462.0\n",
       "1           1  ...   522.0\n",
       "2           2  ...  1348.0\n",
       "3           3  ...  1088.0\n",
       "4           4  ...   579.0\n",
       "\n",
       "[5 rows x 8 columns]"
      ]
     },
     "execution_count": 4,
     "metadata": {
      "tags": []
     },
     "output_type": "execute_result"
    }
   ],
   "source": [
    "data.head()"
   ]
  },
  {
   "cell_type": "code",
   "execution_count": 5,
   "metadata": {
    "colab": {
     "base_uri": "https://localhost:8080/",
     "height": 415
    },
    "executionInfo": {
     "elapsed": 927,
     "status": "ok",
     "timestamp": 1608569371751,
     "user": {
      "displayName": "Ariel Alegre",
      "photoUrl": "",
      "userId": "12007187886001339528"
     },
     "user_tz": 180
    },
    "id": "-yqt3m3EbCet",
    "outputId": "d1a3aa0c-39dc-4a0f-f15c-e4a3f07fae02"
   },
   "outputs": [
    {
     "data": {
      "text/html": [
       "<div>\n",
       "<style scoped>\n",
       "    .dataframe tbody tr th:only-of-type {\n",
       "        vertical-align: middle;\n",
       "    }\n",
       "\n",
       "    .dataframe tbody tr th {\n",
       "        vertical-align: top;\n",
       "    }\n",
       "\n",
       "    .dataframe thead th {\n",
       "        text-align: right;\n",
       "    }\n",
       "</style>\n",
       "<table border=\"1\" class=\"dataframe\">\n",
       "  <thead>\n",
       "    <tr style=\"text-align: right;\">\n",
       "      <th></th>\n",
       "      <th>Texto</th>\n",
       "      <th>Clase</th>\n",
       "      <th>Clase1</th>\n",
       "      <th>Clase2</th>\n",
       "      <th>Clase3</th>\n",
       "      <th>Clase4</th>\n",
       "      <th>Clase5</th>\n",
       "    </tr>\n",
       "  </thead>\n",
       "  <tbody>\n",
       "    <tr>\n",
       "      <th>0</th>\n",
       "      <td>['alexand', 'iii', 'macedon', 'greek', 'αλέξαν...</td>\n",
       "      <td>1</td>\n",
       "      <td>1266.0</td>\n",
       "      <td>468.0</td>\n",
       "      <td>459.0</td>\n",
       "      <td>317.0</td>\n",
       "      <td>462.0</td>\n",
       "    </tr>\n",
       "    <tr>\n",
       "      <th>1</th>\n",
       "      <td>['bc', 'commonli', 'known', 'alexand', 'great'...</td>\n",
       "      <td>1</td>\n",
       "      <td>2073.0</td>\n",
       "      <td>1007.0</td>\n",
       "      <td>740.0</td>\n",
       "      <td>279.0</td>\n",
       "      <td>522.0</td>\n",
       "    </tr>\n",
       "    <tr>\n",
       "      <th>2</th>\n",
       "      <td>['pella', '356', 'bc', 'succeed', 'father', 'p...</td>\n",
       "      <td>1</td>\n",
       "      <td>1457.0</td>\n",
       "      <td>1144.0</td>\n",
       "      <td>1209.0</td>\n",
       "      <td>697.0</td>\n",
       "      <td>1348.0</td>\n",
       "    </tr>\n",
       "    <tr>\n",
       "      <th>3</th>\n",
       "      <td>['age', 'thirti', 'creat', 'one', 'largest', '...</td>\n",
       "      <td>1</td>\n",
       "      <td>1272.0</td>\n",
       "      <td>1307.0</td>\n",
       "      <td>1024.0</td>\n",
       "      <td>829.0</td>\n",
       "      <td>1088.0</td>\n",
       "    </tr>\n",
       "    <tr>\n",
       "      <th>4</th>\n",
       "      <td>['youth', 'alexand', 'tutor', 'aristotl', 'age...</td>\n",
       "      <td>1</td>\n",
       "      <td>1497.0</td>\n",
       "      <td>694.0</td>\n",
       "      <td>623.0</td>\n",
       "      <td>485.0</td>\n",
       "      <td>579.0</td>\n",
       "    </tr>\n",
       "    <tr>\n",
       "      <th>...</th>\n",
       "      <td>...</td>\n",
       "      <td>...</td>\n",
       "      <td>...</td>\n",
       "      <td>...</td>\n",
       "      <td>...</td>\n",
       "      <td>...</td>\n",
       "      <td>...</td>\n",
       "    </tr>\n",
       "    <tr>\n",
       "      <th>15005</th>\n",
       "      <td>['south', 'chile', 'mont', 'verd', 'citat', 'n...</td>\n",
       "      <td>5</td>\n",
       "      <td>532.0</td>\n",
       "      <td>528.0</td>\n",
       "      <td>554.0</td>\n",
       "      <td>618.0</td>\n",
       "      <td>1112.0</td>\n",
       "    </tr>\n",
       "    <tr>\n",
       "      <th>15006</th>\n",
       "      <td>['common', 'style', 'stone', 'tool', 'product'...</td>\n",
       "      <td>5</td>\n",
       "      <td>701.0</td>\n",
       "      <td>650.0</td>\n",
       "      <td>600.0</td>\n",
       "      <td>370.0</td>\n",
       "      <td>2110.0</td>\n",
       "    </tr>\n",
       "    <tr>\n",
       "      <th>15007</th>\n",
       "      <td>['archaic', 'period', 'america', 'saw', 'chang...</td>\n",
       "      <td>5</td>\n",
       "      <td>682.0</td>\n",
       "      <td>782.0</td>\n",
       "      <td>739.0</td>\n",
       "      <td>593.0</td>\n",
       "      <td>1405.0</td>\n",
       "    </tr>\n",
       "    <tr>\n",
       "      <th>15008</th>\n",
       "      <td>['mobil', 'hunter-gather', 'individu', 'group'...</td>\n",
       "      <td>5</td>\n",
       "      <td>641.0</td>\n",
       "      <td>560.0</td>\n",
       "      <td>526.0</td>\n",
       "      <td>572.0</td>\n",
       "      <td>1144.0</td>\n",
       "    </tr>\n",
       "    <tr>\n",
       "      <th>15009</th>\n",
       "      <td>['poverti', 'point', 'dalton', 'plano', 'tradi...</td>\n",
       "      <td>5</td>\n",
       "      <td>485.0</td>\n",
       "      <td>474.0</td>\n",
       "      <td>472.0</td>\n",
       "      <td>397.0</td>\n",
       "      <td>819.0</td>\n",
       "    </tr>\n",
       "  </tbody>\n",
       "</table>\n",
       "<p>15010 rows × 7 columns</p>\n",
       "</div>"
      ],
      "text/plain": [
       "                                                   Texto  Clase  ...  Clase4  Clase5\n",
       "0      ['alexand', 'iii', 'macedon', 'greek', 'αλέξαν...      1  ...   317.0   462.0\n",
       "1      ['bc', 'commonli', 'known', 'alexand', 'great'...      1  ...   279.0   522.0\n",
       "2      ['pella', '356', 'bc', 'succeed', 'father', 'p...      1  ...   697.0  1348.0\n",
       "3      ['age', 'thirti', 'creat', 'one', 'largest', '...      1  ...   829.0  1088.0\n",
       "4      ['youth', 'alexand', 'tutor', 'aristotl', 'age...      1  ...   485.0   579.0\n",
       "...                                                  ...    ...  ...     ...     ...\n",
       "15005  ['south', 'chile', 'mont', 'verd', 'citat', 'n...      5  ...   618.0  1112.0\n",
       "15006  ['common', 'style', 'stone', 'tool', 'product'...      5  ...   370.0  2110.0\n",
       "15007  ['archaic', 'period', 'america', 'saw', 'chang...      5  ...   593.0  1405.0\n",
       "15008  ['mobil', 'hunter-gather', 'individu', 'group'...      5  ...   572.0  1144.0\n",
       "15009  ['poverti', 'point', 'dalton', 'plano', 'tradi...      5  ...   397.0   819.0\n",
       "\n",
       "[15010 rows x 7 columns]"
      ]
     },
     "execution_count": 5,
     "metadata": {
      "tags": []
     },
     "output_type": "execute_result"
    }
   ],
   "source": [
    "textos = data.iloc[:,1:]\n",
    "textos"
   ]
  },
  {
   "cell_type": "code",
   "execution_count": 6,
   "metadata": {
    "executionInfo": {
     "elapsed": 927,
     "status": "ok",
     "timestamp": 1608569374906,
     "user": {
      "displayName": "Ariel Alegre",
      "photoUrl": "",
      "userId": "12007187886001339528"
     },
     "user_tz": 180
    },
    "id": "ipK08utRib2B"
   },
   "outputs": [],
   "source": [
    "X = textos.iloc[:,2:].values"
   ]
  },
  {
   "cell_type": "code",
   "execution_count": 7,
   "metadata": {
    "colab": {
     "base_uri": "https://localhost:8080/"
    },
    "executionInfo": {
     "elapsed": 889,
     "status": "ok",
     "timestamp": 1608569376551,
     "user": {
      "displayName": "Ariel Alegre",
      "photoUrl": "",
      "userId": "12007187886001339528"
     },
     "user_tz": 180
    },
    "id": "ka5208lhlGUK",
    "outputId": "ba69cc6a-21f3-4be1-a0ca-83cc5252dc58"
   },
   "outputs": [
    {
     "data": {
      "text/plain": [
       "numpy.ndarray"
      ]
     },
     "execution_count": 7,
     "metadata": {
      "tags": []
     },
     "output_type": "execute_result"
    }
   ],
   "source": [
    "type(X)"
   ]
  },
  {
   "cell_type": "code",
   "execution_count": 8,
   "metadata": {
    "colab": {
     "base_uri": "https://localhost:8080/"
    },
    "executionInfo": {
     "elapsed": 876,
     "status": "ok",
     "timestamp": 1608569378723,
     "user": {
      "displayName": "Ariel Alegre",
      "photoUrl": "",
      "userId": "12007187886001339528"
     },
     "user_tz": 180
    },
    "id": "a6O0X_hXlO0b",
    "outputId": "f22505ec-9f45-4cd8-bf61-68567283e366"
   },
   "outputs": [
    {
     "data": {
      "text/plain": [
       "array([[1266.,  468.,  459.,  317.,  462.],\n",
       "       [2073., 1007.,  740.,  279.,  522.],\n",
       "       [1457., 1144., 1209.,  697., 1348.],\n",
       "       ...,\n",
       "       [ 682.,  782.,  739.,  593., 1405.],\n",
       "       [ 641.,  560.,  526.,  572., 1144.],\n",
       "       [ 485.,  474.,  472.,  397.,  819.]])"
      ]
     },
     "execution_count": 8,
     "metadata": {
      "tags": []
     },
     "output_type": "execute_result"
    }
   ],
   "source": [
    "X"
   ]
  },
  {
   "cell_type": "code",
   "execution_count": 9,
   "metadata": {
    "executionInfo": {
     "elapsed": 1034,
     "status": "ok",
     "timestamp": 1608569380523,
     "user": {
      "displayName": "Ariel Alegre",
      "photoUrl": "",
      "userId": "12007187886001339528"
     },
     "user_tz": 180
    },
    "id": "xcv723MElSXb"
   },
   "outputs": [],
   "source": [
    "Y = textos.iloc[:,1].values "
   ]
  },
  {
   "cell_type": "code",
   "execution_count": 10,
   "metadata": {
    "colab": {
     "base_uri": "https://localhost:8080/"
    },
    "executionInfo": {
     "elapsed": 937,
     "status": "ok",
     "timestamp": 1608569382104,
     "user": {
      "displayName": "Ariel Alegre",
      "photoUrl": "",
      "userId": "12007187886001339528"
     },
     "user_tz": 180
    },
    "id": "oRjKO2GQl6fq",
    "outputId": "b3b3b5f7-fe63-4113-b4a6-4cb7b43a2b8a"
   },
   "outputs": [
    {
     "data": {
      "text/plain": [
       "numpy.ndarray"
      ]
     },
     "execution_count": 10,
     "metadata": {
      "tags": []
     },
     "output_type": "execute_result"
    }
   ],
   "source": [
    "type(Y)"
   ]
  },
  {
   "cell_type": "code",
   "execution_count": 11,
   "metadata": {
    "colab": {
     "base_uri": "https://localhost:8080/"
    },
    "executionInfo": {
     "elapsed": 1099,
     "status": "ok",
     "timestamp": 1608569383665,
     "user": {
      "displayName": "Ariel Alegre",
      "photoUrl": "",
      "userId": "12007187886001339528"
     },
     "user_tz": 180
    },
    "id": "L86KSlW3mloL",
    "outputId": "35b0de6d-2fc1-4c5f-c9eb-c454bd6c67db"
   },
   "outputs": [
    {
     "data": {
      "text/plain": [
       "array([1, 1, 1, ..., 5, 5, 5])"
      ]
     },
     "execution_count": 11,
     "metadata": {
      "tags": []
     },
     "output_type": "execute_result"
    }
   ],
   "source": [
    "Y"
   ]
  },
  {
   "cell_type": "code",
   "execution_count": 12,
   "metadata": {
    "executionInfo": {
     "elapsed": 1036,
     "status": "ok",
     "timestamp": 1608569385549,
     "user": {
      "displayName": "Ariel Alegre",
      "photoUrl": "",
      "userId": "12007187886001339528"
     },
     "user_tz": 180
    },
    "id": "Mp0qOaSHmnDC"
   },
   "outputs": [],
   "source": [
    "xtr,xtst,ytr,ytst=train_test_split(X,Y,test_size=.2,random_state=564)"
   ]
  },
  {
   "cell_type": "code",
   "execution_count": 13,
   "metadata": {
    "executionInfo": {
     "elapsed": 1239,
     "status": "ok",
     "timestamp": 1608569388211,
     "user": {
      "displayName": "Ariel Alegre",
      "photoUrl": "",
      "userId": "12007187886001339528"
     },
     "user_tz": 180
    },
    "id": "BjPo_Oucrh0_"
   },
   "outputs": [],
   "source": [
    "xtrn = xtr / 1000"
   ]
  },
  {
   "cell_type": "code",
   "execution_count": 14,
   "metadata": {
    "executionInfo": {
     "elapsed": 592,
     "status": "ok",
     "timestamp": 1608569388706,
     "user": {
      "displayName": "Ariel Alegre",
      "photoUrl": "",
      "userId": "12007187886001339528"
     },
     "user_tz": 180
    },
    "id": "u5Tr3Vj2rqd5"
   },
   "outputs": [],
   "source": [
    "xtstn = xtst / 1000"
   ]
  },
  {
   "cell_type": "code",
   "execution_count": 15,
   "metadata": {
    "colab": {
     "base_uri": "https://localhost:8080/"
    },
    "executionInfo": {
     "elapsed": 1365,
     "status": "ok",
     "timestamp": 1608569391083,
     "user": {
      "displayName": "Ariel Alegre",
      "photoUrl": "",
      "userId": "12007187886001339528"
     },
     "user_tz": 180
    },
    "id": "er3qNetwnR7q",
    "outputId": "afa86b8f-0106-444b-994e-268a9e6b8b19"
   },
   "outputs": [
    {
     "data": {
      "text/plain": [
       "12008"
      ]
     },
     "execution_count": 15,
     "metadata": {
      "tags": []
     },
     "output_type": "execute_result"
    }
   ],
   "source": [
    "len(xtr)"
   ]
  },
  {
   "cell_type": "code",
   "execution_count": 16,
   "metadata": {
    "colab": {
     "base_uri": "https://localhost:8080/"
    },
    "executionInfo": {
     "elapsed": 770,
     "status": "ok",
     "timestamp": 1608569392050,
     "user": {
      "displayName": "Ariel Alegre",
      "photoUrl": "",
      "userId": "12007187886001339528"
     },
     "user_tz": 180
    },
    "id": "YkOO3ZqynVR6",
    "outputId": "a944d277-1a18-457d-b524-e0ae15bc2540"
   },
   "outputs": [
    {
     "data": {
      "text/plain": [
       "12008"
      ]
     },
     "execution_count": 16,
     "metadata": {
      "tags": []
     },
     "output_type": "execute_result"
    }
   ],
   "source": [
    "len(ytr)"
   ]
  },
  {
   "cell_type": "code",
   "execution_count": 17,
   "metadata": {
    "colab": {
     "base_uri": "https://localhost:8080/"
    },
    "executionInfo": {
     "elapsed": 859,
     "status": "ok",
     "timestamp": 1608569393873,
     "user": {
      "displayName": "Ariel Alegre",
      "photoUrl": "",
      "userId": "12007187886001339528"
     },
     "user_tz": 180
    },
    "id": "HffGZBCwnY6Z",
    "outputId": "9c2d4643-1080-4ace-98f0-92c84a221287"
   },
   "outputs": [
    {
     "data": {
      "text/plain": [
       "3002"
      ]
     },
     "execution_count": 17,
     "metadata": {
      "tags": []
     },
     "output_type": "execute_result"
    }
   ],
   "source": [
    "len(xtst)"
   ]
  },
  {
   "cell_type": "code",
   "execution_count": 18,
   "metadata": {
    "colab": {
     "base_uri": "https://localhost:8080/"
    },
    "executionInfo": {
     "elapsed": 788,
     "status": "ok",
     "timestamp": 1608569395468,
     "user": {
      "displayName": "Ariel Alegre",
      "photoUrl": "",
      "userId": "12007187886001339528"
     },
     "user_tz": 180
    },
    "id": "6MrXhYj7nb5p",
    "outputId": "42f5db39-b10b-4c36-80c8-c262b6c27f83"
   },
   "outputs": [
    {
     "data": {
      "text/plain": [
       "3002"
      ]
     },
     "execution_count": 18,
     "metadata": {
      "tags": []
     },
     "output_type": "execute_result"
    }
   ],
   "source": [
    "len(ytst)"
   ]
  },
  {
   "cell_type": "code",
   "execution_count": 19,
   "metadata": {
    "colab": {
     "base_uri": "https://localhost:8080/"
    },
    "executionInfo": {
     "elapsed": 595,
     "status": "ok",
     "timestamp": 1608569396951,
     "user": {
      "displayName": "Ariel Alegre",
      "photoUrl": "",
      "userId": "12007187886001339528"
     },
     "user_tz": 180
    },
    "id": "vlCpAy0iNr6o",
    "outputId": "738dce62-e36c-4e44-8ebe-bf07046d0081"
   },
   "outputs": [
    {
     "data": {
      "text/plain": [
       "(5,)"
      ]
     },
     "execution_count": 19,
     "metadata": {
      "tags": []
     },
     "output_type": "execute_result"
    }
   ],
   "source": [
    "xtstn.shape[1:]"
   ]
  },
  {
   "cell_type": "code",
   "execution_count": 20,
   "metadata": {
    "executionInfo": {
     "elapsed": 2727,
     "status": "ok",
     "timestamp": 1608569404405,
     "user": {
      "displayName": "Ariel Alegre",
      "photoUrl": "",
      "userId": "12007187886001339528"
     },
     "user_tz": 180
    },
    "id": "R3yGfMkVoNv3"
   },
   "outputs": [],
   "source": [
    "from tensorflow.keras.models import Sequential\n",
    "from tensorflow.keras.layers import Dense"
   ]
  },
  {
   "cell_type": "code",
   "execution_count": 21,
   "metadata": {
    "executionInfo": {
     "elapsed": 904,
     "status": "ok",
     "timestamp": 1608569404410,
     "user": {
      "displayName": "Ariel Alegre",
      "photoUrl": "",
      "userId": "12007187886001339528"
     },
     "user_tz": 180
    },
    "id": "tJlJKLnvnesJ"
   },
   "outputs": [],
   "source": [
    "modelo = Sequential()"
   ]
  },
  {
   "cell_type": "code",
   "execution_count": 22,
   "metadata": {
    "executionInfo": {
     "elapsed": 689,
     "status": "ok",
     "timestamp": 1608569406192,
     "user": {
      "displayName": "Ariel Alegre",
      "photoUrl": "",
      "userId": "12007187886001339528"
     },
     "user_tz": 180
    },
    "id": "z2uOe87GNFR7"
   },
   "outputs": [],
   "source": [
    "modelo.add(Dense(128,input_shape = xtstn.shape[1:]))"
   ]
  },
  {
   "cell_type": "code",
   "execution_count": 23,
   "metadata": {
    "executionInfo": {
     "elapsed": 627,
     "status": "ok",
     "timestamp": 1608569407738,
     "user": {
      "displayName": "Ariel Alegre",
      "photoUrl": "",
      "userId": "12007187886001339528"
     },
     "user_tz": 180
    },
    "id": "dno4PfxNoQAT"
   },
   "outputs": [],
   "source": [
    "modelo.add(Dense(6,activation=\"softmax\"))"
   ]
  },
  {
   "cell_type": "code",
   "execution_count": 24,
   "metadata": {
    "executionInfo": {
     "elapsed": 1188,
     "status": "ok",
     "timestamp": 1608569411676,
     "user": {
      "displayName": "Ariel Alegre",
      "photoUrl": "",
      "userId": "12007187886001339528"
     },
     "user_tz": 180
    },
    "id": "VcT1a8qiocOQ"
   },
   "outputs": [],
   "source": [
    "modelo.compile(optimizer = \"sgd\", loss = \"sparse_categorical_crossentropy\", metrics =[\"acc\"] )"
   ]
  },
  {
   "cell_type": "code",
   "execution_count": 25,
   "metadata": {
    "colab": {
     "base_uri": "https://localhost:8080/"
    },
    "executionInfo": {
     "elapsed": 39171,
     "status": "ok",
     "timestamp": 1608569457883,
     "user": {
      "displayName": "Ariel Alegre",
      "photoUrl": "",
      "userId": "12007187886001339528"
     },
     "user_tz": 180
    },
    "id": "DF3ufvSfqChK",
    "outputId": "9b756469-05fc-49b2-c3f2-7e02bed7f24d"
   },
   "outputs": [
    {
     "name": "stdout",
     "output_type": "stream",
     "text": [
      "Epoch 1/240\n",
      "103/103 [==============================] - 1s 6ms/step - loss: 1.6534 - acc: 0.3029 - val_loss: 1.4602 - val_acc: 0.5945\n",
      "Epoch 2/240\n",
      "103/103 [==============================] - 0s 1ms/step - loss: 1.4120 - acc: 0.6279 - val_loss: 1.3161 - val_acc: 0.6744\n",
      "Epoch 3/240\n",
      "103/103 [==============================] - 0s 1ms/step - loss: 1.2796 - acc: 0.6979 - val_loss: 1.2152 - val_acc: 0.7077\n",
      "Epoch 4/240\n",
      "103/103 [==============================] - 0s 1ms/step - loss: 1.1793 - acc: 0.7348 - val_loss: 1.1381 - val_acc: 0.7236\n",
      "Epoch 5/240\n",
      "103/103 [==============================] - 0s 2ms/step - loss: 1.1001 - acc: 0.7418 - val_loss: 1.0783 - val_acc: 0.7294\n",
      "Epoch 6/240\n",
      "103/103 [==============================] - 0s 1ms/step - loss: 1.0460 - acc: 0.7485 - val_loss: 1.0280 - val_acc: 0.7352\n",
      "Epoch 7/240\n",
      "103/103 [==============================] - 0s 1ms/step - loss: 0.9973 - acc: 0.7540 - val_loss: 0.9861 - val_acc: 0.7402\n",
      "Epoch 8/240\n",
      "103/103 [==============================] - 0s 1ms/step - loss: 0.9616 - acc: 0.7488 - val_loss: 0.9516 - val_acc: 0.7377\n",
      "Epoch 9/240\n",
      "103/103 [==============================] - 0s 2ms/step - loss: 0.9238 - acc: 0.7661 - val_loss: 0.9210 - val_acc: 0.7485\n",
      "Epoch 10/240\n",
      "103/103 [==============================] - 0s 1ms/step - loss: 0.8993 - acc: 0.7554 - val_loss: 0.8950 - val_acc: 0.7477\n",
      "Epoch 11/240\n",
      "103/103 [==============================] - 0s 1ms/step - loss: 0.8716 - acc: 0.7651 - val_loss: 0.8721 - val_acc: 0.7527\n",
      "Epoch 12/240\n",
      "103/103 [==============================] - 0s 2ms/step - loss: 0.8452 - acc: 0.7634 - val_loss: 0.8519 - val_acc: 0.7594\n",
      "Epoch 13/240\n",
      "103/103 [==============================] - 0s 1ms/step - loss: 0.8309 - acc: 0.7674 - val_loss: 0.8343 - val_acc: 0.7502\n",
      "Epoch 14/240\n",
      "103/103 [==============================] - 0s 2ms/step - loss: 0.8133 - acc: 0.7718 - val_loss: 0.8187 - val_acc: 0.7519\n",
      "Epoch 15/240\n",
      "103/103 [==============================] - 0s 2ms/step - loss: 0.7910 - acc: 0.7726 - val_loss: 0.8043 - val_acc: 0.7585\n",
      "Epoch 16/240\n",
      "103/103 [==============================] - 0s 1ms/step - loss: 0.7815 - acc: 0.7717 - val_loss: 0.7914 - val_acc: 0.7619\n",
      "Epoch 17/240\n",
      "103/103 [==============================] - 0s 1ms/step - loss: 0.7616 - acc: 0.7773 - val_loss: 0.7806 - val_acc: 0.7602\n",
      "Epoch 18/240\n",
      "103/103 [==============================] - 0s 1ms/step - loss: 0.7604 - acc: 0.7752 - val_loss: 0.7694 - val_acc: 0.7644\n",
      "Epoch 19/240\n",
      "103/103 [==============================] - 0s 1ms/step - loss: 0.7461 - acc: 0.7753 - val_loss: 0.7601 - val_acc: 0.7669\n",
      "Epoch 20/240\n",
      "103/103 [==============================] - 0s 1ms/step - loss: 0.7433 - acc: 0.7725 - val_loss: 0.7517 - val_acc: 0.7669\n",
      "Epoch 21/240\n",
      "103/103 [==============================] - 0s 1ms/step - loss: 0.7296 - acc: 0.7842 - val_loss: 0.7449 - val_acc: 0.7669\n",
      "Epoch 22/240\n",
      "103/103 [==============================] - 0s 2ms/step - loss: 0.7282 - acc: 0.7816 - val_loss: 0.7360 - val_acc: 0.7685\n",
      "Epoch 23/240\n",
      "103/103 [==============================] - 0s 1ms/step - loss: 0.7239 - acc: 0.7839 - val_loss: 0.7299 - val_acc: 0.7669\n",
      "Epoch 24/240\n",
      "103/103 [==============================] - 0s 1ms/step - loss: 0.7061 - acc: 0.7825 - val_loss: 0.7247 - val_acc: 0.7677\n",
      "Epoch 25/240\n",
      "103/103 [==============================] - 0s 1ms/step - loss: 0.7062 - acc: 0.7749 - val_loss: 0.7192 - val_acc: 0.7694\n",
      "Epoch 26/240\n",
      "103/103 [==============================] - 0s 1ms/step - loss: 0.7013 - acc: 0.7846 - val_loss: 0.7137 - val_acc: 0.7702\n",
      "Epoch 27/240\n",
      "103/103 [==============================] - 0s 1ms/step - loss: 0.6913 - acc: 0.7846 - val_loss: 0.7093 - val_acc: 0.7702\n",
      "Epoch 28/240\n",
      "103/103 [==============================] - 0s 1ms/step - loss: 0.6971 - acc: 0.7780 - val_loss: 0.7055 - val_acc: 0.7694\n",
      "Epoch 29/240\n",
      "103/103 [==============================] - 0s 1ms/step - loss: 0.6977 - acc: 0.7775 - val_loss: 0.7015 - val_acc: 0.7710\n",
      "Epoch 30/240\n",
      "103/103 [==============================] - 0s 1ms/step - loss: 0.6814 - acc: 0.7838 - val_loss: 0.6981 - val_acc: 0.7719\n",
      "Epoch 31/240\n",
      "103/103 [==============================] - 0s 1ms/step - loss: 0.6923 - acc: 0.7819 - val_loss: 0.6941 - val_acc: 0.7727\n",
      "Epoch 32/240\n",
      "103/103 [==============================] - 0s 2ms/step - loss: 0.6808 - acc: 0.7830 - val_loss: 0.6919 - val_acc: 0.7710\n",
      "Epoch 33/240\n",
      "103/103 [==============================] - 0s 2ms/step - loss: 0.6707 - acc: 0.7870 - val_loss: 0.6895 - val_acc: 0.7744\n",
      "Epoch 34/240\n",
      "103/103 [==============================] - 0s 1ms/step - loss: 0.6700 - acc: 0.7897 - val_loss: 0.6860 - val_acc: 0.7735\n",
      "Epoch 35/240\n",
      "103/103 [==============================] - 0s 1ms/step - loss: 0.6721 - acc: 0.7879 - val_loss: 0.6844 - val_acc: 0.7752\n",
      "Epoch 36/240\n",
      "103/103 [==============================] - 0s 1ms/step - loss: 0.6816 - acc: 0.7761 - val_loss: 0.6814 - val_acc: 0.7769\n",
      "Epoch 37/240\n",
      "103/103 [==============================] - 0s 1ms/step - loss: 0.6663 - acc: 0.7866 - val_loss: 0.6784 - val_acc: 0.7794\n",
      "Epoch 38/240\n",
      "103/103 [==============================] - 0s 1ms/step - loss: 0.6661 - acc: 0.7857 - val_loss: 0.6762 - val_acc: 0.7769\n",
      "Epoch 39/240\n",
      "103/103 [==============================] - 0s 1ms/step - loss: 0.6668 - acc: 0.7846 - val_loss: 0.6753 - val_acc: 0.7777\n",
      "Epoch 40/240\n",
      "103/103 [==============================] - 0s 1ms/step - loss: 0.6720 - acc: 0.7790 - val_loss: 0.6733 - val_acc: 0.7810\n",
      "Epoch 41/240\n",
      "103/103 [==============================] - 0s 1ms/step - loss: 0.6771 - acc: 0.7777 - val_loss: 0.6715 - val_acc: 0.7777\n",
      "Epoch 42/240\n",
      "103/103 [==============================] - 0s 1ms/step - loss: 0.6682 - acc: 0.7846 - val_loss: 0.6697 - val_acc: 0.7802\n",
      "Epoch 43/240\n",
      "103/103 [==============================] - 0s 1ms/step - loss: 0.6606 - acc: 0.7833 - val_loss: 0.6693 - val_acc: 0.7785\n",
      "Epoch 44/240\n",
      "103/103 [==============================] - 0s 1ms/step - loss: 0.6572 - acc: 0.7852 - val_loss: 0.6686 - val_acc: 0.7818\n",
      "Epoch 45/240\n",
      "103/103 [==============================] - 0s 1ms/step - loss: 0.6505 - acc: 0.7883 - val_loss: 0.6661 - val_acc: 0.7818\n",
      "Epoch 46/240\n",
      "103/103 [==============================] - 0s 1ms/step - loss: 0.6383 - acc: 0.7957 - val_loss: 0.6654 - val_acc: 0.7785\n",
      "Epoch 47/240\n",
      "103/103 [==============================] - 0s 1ms/step - loss: 0.6620 - acc: 0.7853 - val_loss: 0.6648 - val_acc: 0.7818\n",
      "Epoch 48/240\n",
      "103/103 [==============================] - 0s 1ms/step - loss: 0.6612 - acc: 0.7843 - val_loss: 0.6640 - val_acc: 0.7827\n",
      "Epoch 49/240\n",
      "103/103 [==============================] - 0s 1ms/step - loss: 0.6560 - acc: 0.7906 - val_loss: 0.6627 - val_acc: 0.7818\n",
      "Epoch 50/240\n",
      "103/103 [==============================] - 0s 1ms/step - loss: 0.6590 - acc: 0.7884 - val_loss: 0.6614 - val_acc: 0.7827\n",
      "Epoch 51/240\n",
      "103/103 [==============================] - 0s 1ms/step - loss: 0.6576 - acc: 0.7820 - val_loss: 0.6613 - val_acc: 0.7810\n",
      "Epoch 52/240\n",
      "103/103 [==============================] - 0s 2ms/step - loss: 0.6488 - acc: 0.7876 - val_loss: 0.6597 - val_acc: 0.7810\n",
      "Epoch 53/240\n",
      "103/103 [==============================] - 0s 2ms/step - loss: 0.6360 - acc: 0.7918 - val_loss: 0.6594 - val_acc: 0.7810\n",
      "Epoch 54/240\n",
      "103/103 [==============================] - 0s 1ms/step - loss: 0.6456 - acc: 0.7927 - val_loss: 0.6582 - val_acc: 0.7802\n",
      "Epoch 55/240\n",
      "103/103 [==============================] - 0s 1ms/step - loss: 0.6474 - acc: 0.7868 - val_loss: 0.6574 - val_acc: 0.7818\n",
      "Epoch 56/240\n",
      "103/103 [==============================] - 0s 1ms/step - loss: 0.6490 - acc: 0.7849 - val_loss: 0.6580 - val_acc: 0.7843\n",
      "Epoch 57/240\n",
      "103/103 [==============================] - 0s 1ms/step - loss: 0.6466 - acc: 0.7882 - val_loss: 0.6565 - val_acc: 0.7818\n",
      "Epoch 58/240\n",
      "103/103 [==============================] - 0s 2ms/step - loss: 0.6494 - acc: 0.7872 - val_loss: 0.6566 - val_acc: 0.7818\n",
      "Epoch 59/240\n",
      "103/103 [==============================] - 0s 1ms/step - loss: 0.6523 - acc: 0.7822 - val_loss: 0.6569 - val_acc: 0.7810\n",
      "Epoch 60/240\n",
      "103/103 [==============================] - 0s 1ms/step - loss: 0.6454 - acc: 0.7849 - val_loss: 0.6563 - val_acc: 0.7843\n",
      "Epoch 61/240\n",
      "103/103 [==============================] - 0s 2ms/step - loss: 0.6599 - acc: 0.7843 - val_loss: 0.6557 - val_acc: 0.7835\n",
      "Epoch 62/240\n",
      "103/103 [==============================] - 0s 1ms/step - loss: 0.6435 - acc: 0.7926 - val_loss: 0.6544 - val_acc: 0.7860\n",
      "Epoch 63/240\n",
      "103/103 [==============================] - 0s 1ms/step - loss: 0.6352 - acc: 0.7873 - val_loss: 0.6549 - val_acc: 0.7827\n",
      "Epoch 64/240\n",
      "103/103 [==============================] - 0s 1ms/step - loss: 0.6395 - acc: 0.7916 - val_loss: 0.6534 - val_acc: 0.7852\n",
      "Epoch 65/240\n",
      "103/103 [==============================] - 0s 1ms/step - loss: 0.6415 - acc: 0.7873 - val_loss: 0.6526 - val_acc: 0.7852\n",
      "Epoch 66/240\n",
      "103/103 [==============================] - 0s 2ms/step - loss: 0.6448 - acc: 0.7867 - val_loss: 0.6514 - val_acc: 0.7852\n",
      "Epoch 67/240\n",
      "103/103 [==============================] - 0s 1ms/step - loss: 0.6423 - acc: 0.7889 - val_loss: 0.6527 - val_acc: 0.7835\n",
      "Epoch 68/240\n",
      "103/103 [==============================] - 0s 1ms/step - loss: 0.6642 - acc: 0.7844 - val_loss: 0.6524 - val_acc: 0.7852\n",
      "Epoch 69/240\n",
      "103/103 [==============================] - 0s 1ms/step - loss: 0.6346 - acc: 0.7896 - val_loss: 0.6524 - val_acc: 0.7852\n",
      "Epoch 70/240\n",
      "103/103 [==============================] - 0s 1ms/step - loss: 0.6568 - acc: 0.7885 - val_loss: 0.6504 - val_acc: 0.7860\n",
      "Epoch 71/240\n",
      "103/103 [==============================] - 0s 1ms/step - loss: 0.6534 - acc: 0.7887 - val_loss: 0.6506 - val_acc: 0.7835\n",
      "Epoch 72/240\n",
      "103/103 [==============================] - 0s 1ms/step - loss: 0.6607 - acc: 0.7831 - val_loss: 0.6510 - val_acc: 0.7852\n",
      "Epoch 73/240\n",
      "103/103 [==============================] - 0s 2ms/step - loss: 0.6445 - acc: 0.7887 - val_loss: 0.6519 - val_acc: 0.7827\n",
      "Epoch 74/240\n",
      "103/103 [==============================] - 0s 1ms/step - loss: 0.6297 - acc: 0.7956 - val_loss: 0.6505 - val_acc: 0.7860\n",
      "Epoch 75/240\n",
      "103/103 [==============================] - 0s 1ms/step - loss: 0.6299 - acc: 0.7902 - val_loss: 0.6500 - val_acc: 0.7827\n",
      "Epoch 76/240\n",
      "103/103 [==============================] - 0s 1ms/step - loss: 0.6391 - acc: 0.7928 - val_loss: 0.6496 - val_acc: 0.7827\n",
      "Epoch 77/240\n",
      "103/103 [==============================] - 0s 1ms/step - loss: 0.6642 - acc: 0.7860 - val_loss: 0.6511 - val_acc: 0.7843\n",
      "Epoch 78/240\n",
      "103/103 [==============================] - 0s 1ms/step - loss: 0.6491 - acc: 0.7843 - val_loss: 0.6501 - val_acc: 0.7860\n",
      "Epoch 79/240\n",
      "103/103 [==============================] - 0s 1ms/step - loss: 0.6533 - acc: 0.7902 - val_loss: 0.6511 - val_acc: 0.7868\n",
      "Epoch 80/240\n",
      "103/103 [==============================] - 0s 2ms/step - loss: 0.6425 - acc: 0.7921 - val_loss: 0.6506 - val_acc: 0.7860\n",
      "Epoch 81/240\n",
      "103/103 [==============================] - 0s 1ms/step - loss: 0.6283 - acc: 0.7937 - val_loss: 0.6490 - val_acc: 0.7893\n",
      "Epoch 82/240\n",
      "103/103 [==============================] - 0s 1ms/step - loss: 0.6448 - acc: 0.7921 - val_loss: 0.6489 - val_acc: 0.7877\n",
      "Epoch 83/240\n",
      "103/103 [==============================] - 0s 1ms/step - loss: 0.6504 - acc: 0.7863 - val_loss: 0.6484 - val_acc: 0.7818\n",
      "Epoch 84/240\n",
      "103/103 [==============================] - 0s 1ms/step - loss: 0.6528 - acc: 0.7929 - val_loss: 0.6493 - val_acc: 0.7868\n",
      "Epoch 85/240\n",
      "103/103 [==============================] - 0s 1ms/step - loss: 0.6421 - acc: 0.7911 - val_loss: 0.6505 - val_acc: 0.7843\n",
      "Epoch 86/240\n",
      "103/103 [==============================] - 0s 1ms/step - loss: 0.6551 - acc: 0.7861 - val_loss: 0.6490 - val_acc: 0.7835\n",
      "Epoch 87/240\n",
      "103/103 [==============================] - 0s 1ms/step - loss: 0.6431 - acc: 0.7896 - val_loss: 0.6481 - val_acc: 0.7843\n",
      "Epoch 88/240\n",
      "103/103 [==============================] - 0s 1ms/step - loss: 0.6432 - acc: 0.7899 - val_loss: 0.6481 - val_acc: 0.7843\n",
      "Epoch 89/240\n",
      "103/103 [==============================] - 0s 1ms/step - loss: 0.6358 - acc: 0.7968 - val_loss: 0.6476 - val_acc: 0.7852\n",
      "Epoch 90/240\n",
      "103/103 [==============================] - 0s 1ms/step - loss: 0.6419 - acc: 0.7862 - val_loss: 0.6481 - val_acc: 0.7868\n",
      "Epoch 91/240\n",
      "103/103 [==============================] - 0s 1ms/step - loss: 0.6434 - acc: 0.7935 - val_loss: 0.6488 - val_acc: 0.7877\n",
      "Epoch 92/240\n",
      "103/103 [==============================] - 0s 1ms/step - loss: 0.6510 - acc: 0.7854 - val_loss: 0.6481 - val_acc: 0.7852\n",
      "Epoch 93/240\n",
      "103/103 [==============================] - 0s 1ms/step - loss: 0.6264 - acc: 0.7958 - val_loss: 0.6482 - val_acc: 0.7868\n",
      "Epoch 94/240\n",
      "103/103 [==============================] - 0s 1ms/step - loss: 0.6458 - acc: 0.7919 - val_loss: 0.6472 - val_acc: 0.7852\n",
      "Epoch 95/240\n",
      "103/103 [==============================] - 0s 1ms/step - loss: 0.6178 - acc: 0.7967 - val_loss: 0.6470 - val_acc: 0.7860\n",
      "Epoch 96/240\n",
      "103/103 [==============================] - 0s 1ms/step - loss: 0.6348 - acc: 0.7933 - val_loss: 0.6477 - val_acc: 0.7868\n",
      "Epoch 97/240\n",
      "103/103 [==============================] - 0s 1ms/step - loss: 0.6455 - acc: 0.7857 - val_loss: 0.6482 - val_acc: 0.7868\n",
      "Epoch 98/240\n",
      "103/103 [==============================] - 0s 1ms/step - loss: 0.6283 - acc: 0.7916 - val_loss: 0.6491 - val_acc: 0.7843\n",
      "Epoch 99/240\n",
      "103/103 [==============================] - 0s 1ms/step - loss: 0.6206 - acc: 0.7981 - val_loss: 0.6479 - val_acc: 0.7860\n",
      "Epoch 100/240\n",
      "103/103 [==============================] - 0s 1ms/step - loss: 0.6488 - acc: 0.7904 - val_loss: 0.6476 - val_acc: 0.7860\n",
      "Epoch 101/240\n",
      "103/103 [==============================] - 0s 2ms/step - loss: 0.6273 - acc: 0.7955 - val_loss: 0.6471 - val_acc: 0.7885\n",
      "Epoch 102/240\n",
      "103/103 [==============================] - 0s 2ms/step - loss: 0.6442 - acc: 0.7943 - val_loss: 0.6480 - val_acc: 0.7877\n",
      "Epoch 103/240\n",
      "103/103 [==============================] - 0s 1ms/step - loss: 0.6541 - acc: 0.7894 - val_loss: 0.6474 - val_acc: 0.7868\n",
      "Epoch 104/240\n",
      "103/103 [==============================] - 0s 1ms/step - loss: 0.6239 - acc: 0.7974 - val_loss: 0.6460 - val_acc: 0.7835\n",
      "Epoch 105/240\n",
      "103/103 [==============================] - 0s 1ms/step - loss: 0.6595 - acc: 0.7828 - val_loss: 0.6474 - val_acc: 0.7860\n",
      "Epoch 106/240\n",
      "103/103 [==============================] - 0s 2ms/step - loss: 0.6458 - acc: 0.7898 - val_loss: 0.6476 - val_acc: 0.7868\n",
      "Epoch 107/240\n",
      "103/103 [==============================] - 0s 1ms/step - loss: 0.6329 - acc: 0.7964 - val_loss: 0.6468 - val_acc: 0.7902\n",
      "Epoch 108/240\n",
      "103/103 [==============================] - 0s 1ms/step - loss: 0.6347 - acc: 0.7912 - val_loss: 0.6469 - val_acc: 0.7877\n",
      "Epoch 109/240\n",
      "103/103 [==============================] - 0s 1ms/step - loss: 0.6364 - acc: 0.7866 - val_loss: 0.6477 - val_acc: 0.7868\n",
      "Epoch 110/240\n",
      "103/103 [==============================] - 0s 1ms/step - loss: 0.6407 - acc: 0.7926 - val_loss: 0.6471 - val_acc: 0.7852\n",
      "Epoch 111/240\n",
      "103/103 [==============================] - 0s 1ms/step - loss: 0.6431 - acc: 0.7885 - val_loss: 0.6476 - val_acc: 0.7885\n",
      "Epoch 112/240\n",
      "103/103 [==============================] - 0s 3ms/step - loss: 0.6466 - acc: 0.7898 - val_loss: 0.6467 - val_acc: 0.7885\n",
      "Epoch 113/240\n",
      "103/103 [==============================] - 0s 1ms/step - loss: 0.6382 - acc: 0.7930 - val_loss: 0.6470 - val_acc: 0.7860\n",
      "Epoch 114/240\n",
      "103/103 [==============================] - 0s 1ms/step - loss: 0.6335 - acc: 0.7908 - val_loss: 0.6481 - val_acc: 0.7868\n",
      "Epoch 115/240\n",
      "103/103 [==============================] - 0s 2ms/step - loss: 0.6409 - acc: 0.7884 - val_loss: 0.6460 - val_acc: 0.7885\n",
      "Epoch 116/240\n",
      "103/103 [==============================] - 0s 1ms/step - loss: 0.6273 - acc: 0.7920 - val_loss: 0.6479 - val_acc: 0.7868\n",
      "Epoch 117/240\n",
      "103/103 [==============================] - 0s 1ms/step - loss: 0.6466 - acc: 0.7897 - val_loss: 0.6476 - val_acc: 0.7852\n",
      "Epoch 118/240\n",
      "103/103 [==============================] - 0s 1ms/step - loss: 0.6541 - acc: 0.7891 - val_loss: 0.6467 - val_acc: 0.7852\n",
      "Epoch 119/240\n",
      "103/103 [==============================] - 0s 2ms/step - loss: 0.6255 - acc: 0.7960 - val_loss: 0.6489 - val_acc: 0.7852\n",
      "Epoch 120/240\n",
      "103/103 [==============================] - 0s 2ms/step - loss: 0.6430 - acc: 0.7927 - val_loss: 0.6458 - val_acc: 0.7877\n",
      "Epoch 121/240\n",
      "103/103 [==============================] - 0s 2ms/step - loss: 0.6503 - acc: 0.7890 - val_loss: 0.6467 - val_acc: 0.7860\n",
      "Epoch 122/240\n",
      "103/103 [==============================] - 0s 1ms/step - loss: 0.6346 - acc: 0.7943 - val_loss: 0.6454 - val_acc: 0.7885\n",
      "Epoch 123/240\n",
      "103/103 [==============================] - 0s 2ms/step - loss: 0.6572 - acc: 0.7857 - val_loss: 0.6463 - val_acc: 0.7877\n",
      "Epoch 124/240\n",
      "103/103 [==============================] - 0s 2ms/step - loss: 0.6419 - acc: 0.7892 - val_loss: 0.6458 - val_acc: 0.7868\n",
      "Epoch 125/240\n",
      "103/103 [==============================] - 0s 1ms/step - loss: 0.6346 - acc: 0.7914 - val_loss: 0.6456 - val_acc: 0.7827\n",
      "Epoch 126/240\n",
      "103/103 [==============================] - 0s 1ms/step - loss: 0.6430 - acc: 0.7936 - val_loss: 0.6459 - val_acc: 0.7885\n",
      "Epoch 127/240\n",
      "103/103 [==============================] - 0s 1ms/step - loss: 0.6491 - acc: 0.7889 - val_loss: 0.6481 - val_acc: 0.7843\n",
      "Epoch 128/240\n",
      "103/103 [==============================] - 0s 1ms/step - loss: 0.6432 - acc: 0.7894 - val_loss: 0.6466 - val_acc: 0.7885\n",
      "Epoch 129/240\n",
      "103/103 [==============================] - 0s 1ms/step - loss: 0.6460 - acc: 0.7863 - val_loss: 0.6480 - val_acc: 0.7818\n",
      "Epoch 130/240\n",
      "103/103 [==============================] - 0s 2ms/step - loss: 0.6456 - acc: 0.7925 - val_loss: 0.6463 - val_acc: 0.7868\n",
      "Epoch 131/240\n",
      "103/103 [==============================] - 0s 1ms/step - loss: 0.6553 - acc: 0.7846 - val_loss: 0.6475 - val_acc: 0.7868\n",
      "Epoch 132/240\n",
      "103/103 [==============================] - 0s 1ms/step - loss: 0.6445 - acc: 0.7868 - val_loss: 0.6478 - val_acc: 0.7843\n",
      "Epoch 133/240\n",
      "103/103 [==============================] - 0s 2ms/step - loss: 0.6277 - acc: 0.7975 - val_loss: 0.6468 - val_acc: 0.7852\n",
      "Epoch 134/240\n",
      "103/103 [==============================] - 0s 1ms/step - loss: 0.6404 - acc: 0.7902 - val_loss: 0.6458 - val_acc: 0.7860\n",
      "Epoch 135/240\n",
      "103/103 [==============================] - 0s 1ms/step - loss: 0.6465 - acc: 0.7863 - val_loss: 0.6459 - val_acc: 0.7843\n",
      "Epoch 136/240\n",
      "103/103 [==============================] - 0s 1ms/step - loss: 0.6409 - acc: 0.7950 - val_loss: 0.6460 - val_acc: 0.7877\n",
      "Epoch 137/240\n",
      "103/103 [==============================] - 0s 2ms/step - loss: 0.6347 - acc: 0.7909 - val_loss: 0.6455 - val_acc: 0.7868\n",
      "Epoch 138/240\n",
      "103/103 [==============================] - 0s 1ms/step - loss: 0.6447 - acc: 0.7889 - val_loss: 0.6470 - val_acc: 0.7860\n",
      "Epoch 139/240\n",
      "103/103 [==============================] - 0s 1ms/step - loss: 0.6491 - acc: 0.7884 - val_loss: 0.6466 - val_acc: 0.7860\n",
      "Epoch 140/240\n",
      "103/103 [==============================] - 0s 2ms/step - loss: 0.6401 - acc: 0.7906 - val_loss: 0.6464 - val_acc: 0.7843\n",
      "Epoch 141/240\n",
      "103/103 [==============================] - 0s 1ms/step - loss: 0.6431 - acc: 0.7895 - val_loss: 0.6460 - val_acc: 0.7877\n",
      "Epoch 142/240\n",
      "103/103 [==============================] - 0s 1ms/step - loss: 0.6672 - acc: 0.7819 - val_loss: 0.6474 - val_acc: 0.7852\n",
      "Epoch 143/240\n",
      "103/103 [==============================] - 0s 2ms/step - loss: 0.6381 - acc: 0.7939 - val_loss: 0.6467 - val_acc: 0.7877\n",
      "Epoch 144/240\n",
      "103/103 [==============================] - 0s 1ms/step - loss: 0.6366 - acc: 0.7920 - val_loss: 0.6468 - val_acc: 0.7860\n",
      "Epoch 145/240\n",
      "103/103 [==============================] - 0s 1ms/step - loss: 0.6398 - acc: 0.7882 - val_loss: 0.6469 - val_acc: 0.7868\n",
      "Epoch 146/240\n",
      "103/103 [==============================] - 0s 2ms/step - loss: 0.6216 - acc: 0.7965 - val_loss: 0.6470 - val_acc: 0.7852\n",
      "Epoch 147/240\n",
      "103/103 [==============================] - 0s 2ms/step - loss: 0.6446 - acc: 0.7918 - val_loss: 0.6459 - val_acc: 0.7868\n",
      "Epoch 148/240\n",
      "103/103 [==============================] - 0s 2ms/step - loss: 0.6326 - acc: 0.7925 - val_loss: 0.6457 - val_acc: 0.7877\n",
      "Epoch 149/240\n",
      "103/103 [==============================] - 0s 1ms/step - loss: 0.6311 - acc: 0.7909 - val_loss: 0.6461 - val_acc: 0.7860\n",
      "Epoch 150/240\n",
      "103/103 [==============================] - 0s 1ms/step - loss: 0.6398 - acc: 0.7931 - val_loss: 0.6476 - val_acc: 0.7852\n",
      "Epoch 151/240\n",
      "103/103 [==============================] - 0s 1ms/step - loss: 0.6354 - acc: 0.7908 - val_loss: 0.6460 - val_acc: 0.7835\n",
      "Epoch 152/240\n",
      "103/103 [==============================] - 0s 1ms/step - loss: 0.6454 - acc: 0.7882 - val_loss: 0.6472 - val_acc: 0.7860\n",
      "Epoch 153/240\n",
      "103/103 [==============================] - 0s 1ms/step - loss: 0.6256 - acc: 0.7954 - val_loss: 0.6460 - val_acc: 0.7885\n",
      "Epoch 154/240\n",
      "103/103 [==============================] - 0s 1ms/step - loss: 0.6210 - acc: 0.8011 - val_loss: 0.6461 - val_acc: 0.7860\n",
      "Epoch 155/240\n",
      "103/103 [==============================] - 0s 1ms/step - loss: 0.6275 - acc: 0.7972 - val_loss: 0.6492 - val_acc: 0.7852\n",
      "Epoch 156/240\n",
      "103/103 [==============================] - 0s 1ms/step - loss: 0.6478 - acc: 0.7915 - val_loss: 0.6464 - val_acc: 0.7852\n",
      "Epoch 157/240\n",
      "103/103 [==============================] - 0s 2ms/step - loss: 0.6262 - acc: 0.7944 - val_loss: 0.6458 - val_acc: 0.7852\n",
      "Epoch 158/240\n",
      "103/103 [==============================] - 0s 1ms/step - loss: 0.6362 - acc: 0.7949 - val_loss: 0.6466 - val_acc: 0.7902\n",
      "Epoch 159/240\n",
      "103/103 [==============================] - 0s 1ms/step - loss: 0.6473 - acc: 0.7870 - val_loss: 0.6449 - val_acc: 0.7868\n",
      "Epoch 160/240\n",
      "103/103 [==============================] - 0s 2ms/step - loss: 0.6418 - acc: 0.7915 - val_loss: 0.6459 - val_acc: 0.7877\n",
      "Epoch 161/240\n",
      "103/103 [==============================] - 0s 1ms/step - loss: 0.6319 - acc: 0.7934 - val_loss: 0.6460 - val_acc: 0.7868\n",
      "Epoch 162/240\n",
      "103/103 [==============================] - 0s 2ms/step - loss: 0.6452 - acc: 0.7887 - val_loss: 0.6484 - val_acc: 0.7843\n",
      "Epoch 163/240\n",
      "103/103 [==============================] - 0s 3ms/step - loss: 0.6383 - acc: 0.7927 - val_loss: 0.6462 - val_acc: 0.7877\n",
      "Epoch 164/240\n",
      "103/103 [==============================] - 0s 2ms/step - loss: 0.6303 - acc: 0.7946 - val_loss: 0.6461 - val_acc: 0.7877\n",
      "Epoch 165/240\n",
      "103/103 [==============================] - 0s 2ms/step - loss: 0.6452 - acc: 0.7904 - val_loss: 0.6456 - val_acc: 0.7877\n",
      "Epoch 166/240\n",
      "103/103 [==============================] - 0s 1ms/step - loss: 0.6507 - acc: 0.7863 - val_loss: 0.6456 - val_acc: 0.7860\n",
      "Epoch 167/240\n",
      "103/103 [==============================] - 0s 2ms/step - loss: 0.6355 - acc: 0.7963 - val_loss: 0.6456 - val_acc: 0.7860\n",
      "Epoch 168/240\n",
      "103/103 [==============================] - 0s 1ms/step - loss: 0.6294 - acc: 0.7934 - val_loss: 0.6470 - val_acc: 0.7852\n",
      "Epoch 169/240\n",
      "103/103 [==============================] - 0s 1ms/step - loss: 0.6395 - acc: 0.7877 - val_loss: 0.6475 - val_acc: 0.7835\n",
      "Epoch 170/240\n",
      "103/103 [==============================] - 0s 1ms/step - loss: 0.6481 - acc: 0.7897 - val_loss: 0.6450 - val_acc: 0.7893\n",
      "Epoch 171/240\n",
      "103/103 [==============================] - 0s 2ms/step - loss: 0.6250 - acc: 0.7963 - val_loss: 0.6472 - val_acc: 0.7860\n",
      "Epoch 172/240\n",
      "103/103 [==============================] - 0s 2ms/step - loss: 0.6396 - acc: 0.7879 - val_loss: 0.6466 - val_acc: 0.7868\n",
      "Epoch 173/240\n",
      "103/103 [==============================] - 0s 1ms/step - loss: 0.6347 - acc: 0.7890 - val_loss: 0.6462 - val_acc: 0.7835\n",
      "Epoch 174/240\n",
      "103/103 [==============================] - 0s 2ms/step - loss: 0.6513 - acc: 0.7883 - val_loss: 0.6470 - val_acc: 0.7893\n",
      "Epoch 175/240\n",
      "103/103 [==============================] - 0s 1ms/step - loss: 0.6594 - acc: 0.7871 - val_loss: 0.6466 - val_acc: 0.7860\n",
      "Epoch 176/240\n",
      "103/103 [==============================] - 0s 2ms/step - loss: 0.6389 - acc: 0.7917 - val_loss: 0.6468 - val_acc: 0.7860\n",
      "Epoch 177/240\n",
      "103/103 [==============================] - 0s 1ms/step - loss: 0.6463 - acc: 0.7921 - val_loss: 0.6463 - val_acc: 0.7852\n",
      "Epoch 178/240\n",
      "103/103 [==============================] - 0s 2ms/step - loss: 0.6323 - acc: 0.7968 - val_loss: 0.6463 - val_acc: 0.7835\n",
      "Epoch 179/240\n",
      "103/103 [==============================] - 0s 1ms/step - loss: 0.6284 - acc: 0.7926 - val_loss: 0.6459 - val_acc: 0.7877\n",
      "Epoch 180/240\n",
      "103/103 [==============================] - 0s 2ms/step - loss: 0.6477 - acc: 0.7932 - val_loss: 0.6492 - val_acc: 0.7843\n",
      "Epoch 181/240\n",
      "103/103 [==============================] - 0s 1ms/step - loss: 0.6633 - acc: 0.7842 - val_loss: 0.6462 - val_acc: 0.7902\n",
      "Epoch 182/240\n",
      "103/103 [==============================] - 0s 1ms/step - loss: 0.6464 - acc: 0.7915 - val_loss: 0.6456 - val_acc: 0.7868\n",
      "Epoch 183/240\n",
      "103/103 [==============================] - 0s 2ms/step - loss: 0.6355 - acc: 0.7906 - val_loss: 0.6455 - val_acc: 0.7860\n",
      "Epoch 184/240\n",
      "103/103 [==============================] - 0s 1ms/step - loss: 0.6499 - acc: 0.7842 - val_loss: 0.6455 - val_acc: 0.7868\n",
      "Epoch 185/240\n",
      "103/103 [==============================] - 0s 2ms/step - loss: 0.6469 - acc: 0.7874 - val_loss: 0.6465 - val_acc: 0.7868\n",
      "Epoch 186/240\n",
      "103/103 [==============================] - 0s 2ms/step - loss: 0.6373 - acc: 0.7919 - val_loss: 0.6462 - val_acc: 0.7877\n",
      "Epoch 187/240\n",
      "103/103 [==============================] - 0s 1ms/step - loss: 0.6512 - acc: 0.7895 - val_loss: 0.6463 - val_acc: 0.7843\n",
      "Epoch 188/240\n",
      "103/103 [==============================] - 0s 2ms/step - loss: 0.6380 - acc: 0.7929 - val_loss: 0.6467 - val_acc: 0.7893\n",
      "Epoch 189/240\n",
      "103/103 [==============================] - 0s 1ms/step - loss: 0.6284 - acc: 0.7916 - val_loss: 0.6468 - val_acc: 0.7852\n",
      "Epoch 190/240\n",
      "103/103 [==============================] - 0s 2ms/step - loss: 0.6285 - acc: 0.7931 - val_loss: 0.6459 - val_acc: 0.7860\n",
      "Epoch 191/240\n",
      "103/103 [==============================] - 0s 1ms/step - loss: 0.6404 - acc: 0.7925 - val_loss: 0.6457 - val_acc: 0.7860\n",
      "Epoch 192/240\n",
      "103/103 [==============================] - 0s 2ms/step - loss: 0.6480 - acc: 0.7879 - val_loss: 0.6454 - val_acc: 0.7852\n",
      "Epoch 193/240\n",
      "103/103 [==============================] - 0s 1ms/step - loss: 0.6505 - acc: 0.7886 - val_loss: 0.6455 - val_acc: 0.7860\n",
      "Epoch 194/240\n",
      "103/103 [==============================] - 0s 2ms/step - loss: 0.6446 - acc: 0.7913 - val_loss: 0.6474 - val_acc: 0.7860\n",
      "Epoch 195/240\n",
      "103/103 [==============================] - 0s 1ms/step - loss: 0.6281 - acc: 0.7965 - val_loss: 0.6454 - val_acc: 0.7860\n",
      "Epoch 196/240\n",
      "103/103 [==============================] - 0s 2ms/step - loss: 0.6373 - acc: 0.7887 - val_loss: 0.6460 - val_acc: 0.7885\n",
      "Epoch 197/240\n",
      "103/103 [==============================] - 0s 1ms/step - loss: 0.6369 - acc: 0.7939 - val_loss: 0.6452 - val_acc: 0.7868\n",
      "Epoch 198/240\n",
      "103/103 [==============================] - 0s 2ms/step - loss: 0.6412 - acc: 0.7896 - val_loss: 0.6464 - val_acc: 0.7902\n",
      "Epoch 199/240\n",
      "103/103 [==============================] - 0s 2ms/step - loss: 0.6344 - acc: 0.7905 - val_loss: 0.6471 - val_acc: 0.7860\n",
      "Epoch 200/240\n",
      "103/103 [==============================] - 0s 1ms/step - loss: 0.6465 - acc: 0.7907 - val_loss: 0.6449 - val_acc: 0.7843\n",
      "Epoch 201/240\n",
      "103/103 [==============================] - 0s 2ms/step - loss: 0.6280 - acc: 0.7979 - val_loss: 0.6463 - val_acc: 0.7893\n",
      "Epoch 202/240\n",
      "103/103 [==============================] - 0s 2ms/step - loss: 0.6404 - acc: 0.7897 - val_loss: 0.6460 - val_acc: 0.7868\n",
      "Epoch 203/240\n",
      "103/103 [==============================] - 0s 2ms/step - loss: 0.6441 - acc: 0.7908 - val_loss: 0.6458 - val_acc: 0.7877\n",
      "Epoch 204/240\n",
      "103/103 [==============================] - 0s 2ms/step - loss: 0.6429 - acc: 0.7900 - val_loss: 0.6463 - val_acc: 0.7860\n",
      "Epoch 205/240\n",
      "103/103 [==============================] - 0s 2ms/step - loss: 0.6453 - acc: 0.7939 - val_loss: 0.6457 - val_acc: 0.7868\n",
      "Epoch 206/240\n",
      "103/103 [==============================] - 0s 1ms/step - loss: 0.6348 - acc: 0.7932 - val_loss: 0.6472 - val_acc: 0.7868\n",
      "Epoch 207/240\n",
      "103/103 [==============================] - 0s 2ms/step - loss: 0.6506 - acc: 0.7846 - val_loss: 0.6461 - val_acc: 0.7885\n",
      "Epoch 208/240\n",
      "103/103 [==============================] - 0s 2ms/step - loss: 0.6241 - acc: 0.7969 - val_loss: 0.6455 - val_acc: 0.7868\n",
      "Epoch 209/240\n",
      "103/103 [==============================] - 0s 2ms/step - loss: 0.6336 - acc: 0.7956 - val_loss: 0.6480 - val_acc: 0.7877\n",
      "Epoch 210/240\n",
      "103/103 [==============================] - 0s 2ms/step - loss: 0.6327 - acc: 0.7963 - val_loss: 0.6468 - val_acc: 0.7860\n",
      "Epoch 211/240\n",
      "103/103 [==============================] - 0s 2ms/step - loss: 0.6400 - acc: 0.7952 - val_loss: 0.6463 - val_acc: 0.7868\n",
      "Epoch 212/240\n",
      "103/103 [==============================] - 0s 2ms/step - loss: 0.6583 - acc: 0.7847 - val_loss: 0.6452 - val_acc: 0.7860\n",
      "Epoch 213/240\n",
      "103/103 [==============================] - 0s 1ms/step - loss: 0.6390 - acc: 0.7950 - val_loss: 0.6469 - val_acc: 0.7843\n",
      "Epoch 214/240\n",
      "103/103 [==============================] - 0s 2ms/step - loss: 0.6533 - acc: 0.7863 - val_loss: 0.6464 - val_acc: 0.7852\n",
      "Epoch 215/240\n",
      "103/103 [==============================] - 0s 1ms/step - loss: 0.6415 - acc: 0.7877 - val_loss: 0.6466 - val_acc: 0.7860\n",
      "Epoch 216/240\n",
      "103/103 [==============================] - 0s 1ms/step - loss: 0.6324 - acc: 0.7964 - val_loss: 0.6450 - val_acc: 0.7835\n",
      "Epoch 217/240\n",
      "103/103 [==============================] - 0s 2ms/step - loss: 0.6635 - acc: 0.7887 - val_loss: 0.6454 - val_acc: 0.7893\n",
      "Epoch 218/240\n",
      "103/103 [==============================] - 0s 1ms/step - loss: 0.6370 - acc: 0.7868 - val_loss: 0.6464 - val_acc: 0.7852\n",
      "Epoch 219/240\n",
      "103/103 [==============================] - 0s 1ms/step - loss: 0.6455 - acc: 0.7885 - val_loss: 0.6464 - val_acc: 0.7885\n",
      "Epoch 220/240\n",
      "103/103 [==============================] - 0s 2ms/step - loss: 0.6186 - acc: 0.7994 - val_loss: 0.6469 - val_acc: 0.7860\n",
      "Epoch 221/240\n",
      "103/103 [==============================] - 0s 2ms/step - loss: 0.6520 - acc: 0.7884 - val_loss: 0.6465 - val_acc: 0.7852\n",
      "Epoch 222/240\n",
      "103/103 [==============================] - 0s 1ms/step - loss: 0.6303 - acc: 0.7942 - val_loss: 0.6453 - val_acc: 0.7877\n",
      "Epoch 223/240\n",
      "103/103 [==============================] - 0s 2ms/step - loss: 0.6325 - acc: 0.7947 - val_loss: 0.6477 - val_acc: 0.7843\n",
      "Epoch 224/240\n",
      "103/103 [==============================] - 0s 2ms/step - loss: 0.6257 - acc: 0.7977 - val_loss: 0.6473 - val_acc: 0.7852\n",
      "Epoch 225/240\n",
      "103/103 [==============================] - 0s 1ms/step - loss: 0.6281 - acc: 0.7917 - val_loss: 0.6465 - val_acc: 0.7877\n",
      "Epoch 226/240\n",
      "103/103 [==============================] - 0s 1ms/step - loss: 0.6394 - acc: 0.7940 - val_loss: 0.6463 - val_acc: 0.7877\n",
      "Epoch 227/240\n",
      "103/103 [==============================] - 0s 2ms/step - loss: 0.6323 - acc: 0.7931 - val_loss: 0.6464 - val_acc: 0.7868\n",
      "Epoch 228/240\n",
      "103/103 [==============================] - 0s 2ms/step - loss: 0.6334 - acc: 0.7975 - val_loss: 0.6466 - val_acc: 0.7902\n",
      "Epoch 229/240\n",
      "103/103 [==============================] - 0s 1ms/step - loss: 0.6539 - acc: 0.7908 - val_loss: 0.6472 - val_acc: 0.7860\n",
      "Epoch 230/240\n",
      "103/103 [==============================] - 0s 1ms/step - loss: 0.6504 - acc: 0.7873 - val_loss: 0.6462 - val_acc: 0.7860\n",
      "Epoch 231/240\n",
      "103/103 [==============================] - 0s 1ms/step - loss: 0.6536 - acc: 0.7884 - val_loss: 0.6464 - val_acc: 0.7860\n",
      "Epoch 232/240\n",
      "103/103 [==============================] - 0s 1ms/step - loss: 0.6433 - acc: 0.7870 - val_loss: 0.6464 - val_acc: 0.7868\n",
      "Epoch 233/240\n",
      "103/103 [==============================] - 0s 2ms/step - loss: 0.6238 - acc: 0.7956 - val_loss: 0.6459 - val_acc: 0.7868\n",
      "Epoch 234/240\n",
      "103/103 [==============================] - 0s 2ms/step - loss: 0.6289 - acc: 0.7957 - val_loss: 0.6461 - val_acc: 0.7877\n",
      "Epoch 235/240\n",
      "103/103 [==============================] - 0s 1ms/step - loss: 0.6265 - acc: 0.7962 - val_loss: 0.6489 - val_acc: 0.7818\n",
      "Epoch 236/240\n",
      "103/103 [==============================] - 0s 1ms/step - loss: 0.6406 - acc: 0.7931 - val_loss: 0.6472 - val_acc: 0.7877\n",
      "Epoch 237/240\n",
      "103/103 [==============================] - 0s 2ms/step - loss: 0.6476 - acc: 0.7944 - val_loss: 0.6472 - val_acc: 0.7860\n",
      "Epoch 238/240\n",
      "103/103 [==============================] - 0s 2ms/step - loss: 0.6440 - acc: 0.7925 - val_loss: 0.6462 - val_acc: 0.7877\n",
      "Epoch 239/240\n",
      "103/103 [==============================] - 0s 1ms/step - loss: 0.6461 - acc: 0.7902 - val_loss: 0.6462 - val_acc: 0.7902\n",
      "Epoch 240/240\n",
      "103/103 [==============================] - 0s 2ms/step - loss: 0.6341 - acc: 0.7925 - val_loss: 0.6466 - val_acc: 0.7860\n"
     ]
    },
    {
     "data": {
      "text/plain": [
       "<tensorflow.python.keras.callbacks.History at 0x7f5e677054e0>"
      ]
     },
     "execution_count": 25,
     "metadata": {
      "tags": []
     },
     "output_type": "execute_result"
    }
   ],
   "source": [
    "modelo.fit(xtrn,ytr,epochs=240,batch_size=105,validation_split=.1)"
   ]
  },
  {
   "cell_type": "code",
   "execution_count": 26,
   "metadata": {
    "colab": {
     "base_uri": "https://localhost:8080/"
    },
    "executionInfo": {
     "elapsed": 986,
     "status": "ok",
     "timestamp": 1608569469333,
     "user": {
      "displayName": "Ariel Alegre",
      "photoUrl": "",
      "userId": "12007187886001339528"
     },
     "user_tz": 180
    },
    "id": "sdmjeuBjqdjw",
    "outputId": "acbce51c-9670-49a1-e524-1a56930ed799"
   },
   "outputs": [
    {
     "name": "stdout",
     "output_type": "stream",
     "text": [
      "94/94 [==============================] - 0s 811us/step - loss: 0.6684 - acc: 0.7765\n"
     ]
    },
    {
     "data": {
      "text/plain": [
       "[0.6683911681175232, 0.776482343673706]"
      ]
     },
     "execution_count": 26,
     "metadata": {
      "tags": []
     },
     "output_type": "execute_result"
    }
   ],
   "source": [
    "modelo.evaluate(xtstn,ytst)"
   ]
  },
  {
   "cell_type": "code",
   "execution_count": 27,
   "metadata": {
    "colab": {
     "base_uri": "https://localhost:8080/"
    },
    "executionInfo": {
     "elapsed": 1133,
     "status": "ok",
     "timestamp": 1608569475079,
     "user": {
      "displayName": "Ariel Alegre",
      "photoUrl": "",
      "userId": "12007187886001339528"
     },
     "user_tz": 180
    },
    "id": "RR5of4vuGrRM",
    "outputId": "255cc18d-5e6f-449d-f9d2-808592ca40eb"
   },
   "outputs": [
    {
     "data": {
      "text/plain": [
       "array([[ 512.,  579.,  514.,  458., 1435.],\n",
       "       [  77.,  177.,  317.,  331.,  104.],\n",
       "       [1231.,  589.,  502.,  335., 1591.],\n",
       "       ...,\n",
       "       [ 418.,  468.,  466.,  273.,  578.],\n",
       "       [ 404.,  462.,  882.,  422.,  230.],\n",
       "       [1047.,  434.,  485.,  388.,  557.]])"
      ]
     },
     "execution_count": 27,
     "metadata": {
      "tags": []
     },
     "output_type": "execute_result"
    }
   ],
   "source": [
    "xtst"
   ]
  },
  {
   "cell_type": "code",
   "execution_count": 28,
   "metadata": {
    "colab": {
     "base_uri": "https://localhost:8080/"
    },
    "executionInfo": {
     "elapsed": 915,
     "status": "ok",
     "timestamp": 1608569478066,
     "user": {
      "displayName": "Ariel Alegre",
      "photoUrl": "",
      "userId": "12007187886001339528"
     },
     "user_tz": 180
    },
    "id": "0ktYqudKHLTW",
    "outputId": "fe70a654-45e7-4805-a090-94f00c27c3a2"
   },
   "outputs": [
    {
     "data": {
      "text/plain": [
       "(array([ 512.,  579.,  514.,  458., 1435.]), 5)"
      ]
     },
     "execution_count": 28,
     "metadata": {
      "tags": []
     },
     "output_type": "execute_result"
    }
   ],
   "source": [
    "xtst[0],ytst[0]"
   ]
  },
  {
   "cell_type": "code",
   "execution_count": 29,
   "metadata": {
    "colab": {
     "base_uri": "https://localhost:8080/"
    },
    "executionInfo": {
     "elapsed": 957,
     "status": "ok",
     "timestamp": 1608569481254,
     "user": {
      "displayName": "Ariel Alegre",
      "photoUrl": "",
      "userId": "12007187886001339528"
     },
     "user_tz": 180
    },
    "id": "8FyxIPI7HOIB",
    "outputId": "bfc9b712-e6a3-4658-b92c-c2dd3ed1f9e4"
   },
   "outputs": [
    {
     "data": {
      "text/plain": [
       "(array([[0., 0., 0., 0., 0., 1.]], dtype=float32), 5)"
      ]
     },
     "execution_count": 29,
     "metadata": {
      "tags": []
     },
     "output_type": "execute_result"
    }
   ],
   "source": [
    "modelo.predict(xtst[0].reshape(1, -1)),ytst[0]"
   ]
  },
  {
   "cell_type": "code",
   "execution_count": 30,
   "metadata": {
    "colab": {
     "base_uri": "https://localhost:8080/"
    },
    "executionInfo": {
     "elapsed": 935,
     "status": "ok",
     "timestamp": 1608569486115,
     "user": {
      "displayName": "Ariel Alegre",
      "photoUrl": "",
      "userId": "12007187886001339528"
     },
     "user_tz": 180
    },
    "id": "eF_qx94oHtP4",
    "outputId": "41741db5-b9d3-456b-c3b5-9c1455eaf690"
   },
   "outputs": [
    {
     "data": {
      "text/plain": [
       "True"
      ]
     },
     "execution_count": 30,
     "metadata": {
      "tags": []
     },
     "output_type": "execute_result"
    }
   ],
   "source": [
    "np.argmax(modelo.predict(xtst[0].reshape(1, -1))) == ytst[0]"
   ]
  },
  {
   "cell_type": "code",
   "execution_count": 31,
   "metadata": {
    "colab": {
     "base_uri": "https://localhost:8080/"
    },
    "executionInfo": {
     "elapsed": 905,
     "status": "ok",
     "timestamp": 1608569490099,
     "user": {
      "displayName": "Ariel Alegre",
      "photoUrl": "",
      "userId": "12007187886001339528"
     },
     "user_tz": 180
    },
    "id": "suwBhfWMIqEG",
    "outputId": "b12fdcf5-e681-4512-81fa-fa96b7f08408"
   },
   "outputs": [
    {
     "data": {
      "text/plain": [
       "3002"
      ]
     },
     "execution_count": 31,
     "metadata": {
      "tags": []
     },
     "output_type": "execute_result"
    }
   ],
   "source": [
    "len(xtst)"
   ]
  },
  {
   "cell_type": "code",
   "execution_count": 32,
   "metadata": {
    "colab": {
     "base_uri": "https://localhost:8080/"
    },
    "executionInfo": {
     "elapsed": 119933,
     "status": "ok",
     "timestamp": 1608569613073,
     "user": {
      "displayName": "Ariel Alegre",
      "photoUrl": "",
      "userId": "12007187886001339528"
     },
     "user_tz": 180
    },
    "id": "hYgj-DLxI7Dl",
    "outputId": "353d9e71-82a8-444a-9548-7751974bc0ac"
   },
   "outputs": [
    {
     "name": "stdout",
     "output_type": "stream",
     "text": [
      "aciertos:  2311\n"
     ]
    }
   ],
   "source": [
    "aciertos = 0\n",
    "for i in range(len(xtst)):\n",
    "     if np.argmax(modelo.predict(xtst[i].reshape(1, -1))) == ytst[i]:\n",
    "       aciertos +=1\n",
    "print(\"aciertos: \",aciertos)       "
   ]
  },
  {
   "cell_type": "code",
   "execution_count": 33,
   "metadata": {
    "colab": {
     "base_uri": "https://localhost:8080/"
    },
    "executionInfo": {
     "elapsed": 895,
     "status": "ok",
     "timestamp": 1608569666512,
     "user": {
      "displayName": "Ariel Alegre",
      "photoUrl": "",
      "userId": "12007187886001339528"
     },
     "user_tz": 180
    },
    "id": "6fHbQ1hzJefn",
    "outputId": "4a3bcc4c-6c84-4a47-be0c-16586eb41c8e"
   },
   "outputs": [
    {
     "name": "stdout",
     "output_type": "stream",
     "text": [
      "Accuracy:  0.7698201199200533\n"
     ]
    }
   ],
   "source": [
    "print(\"Accuracy: \", aciertos / len(xtst))"
   ]
  },
  {
   "cell_type": "code",
   "execution_count": 34,
   "metadata": {
    "executionInfo": {
     "elapsed": 1108,
     "status": "ok",
     "timestamp": 1608569792670,
     "user": {
      "displayName": "Ariel Alegre",
      "photoUrl": "",
      "userId": "12007187886001339528"
     },
     "user_tz": 180
    },
    "id": "FtPd0U4lKXLt"
   },
   "outputs": [],
   "source": [
    "modelo.save_weights(\"/content/drive/MyDrive/DEEP LEARNING - ESPECIALIZACION  -COURSERA/NLP/Historia.h5\")"
   ]
  },
  {
   "cell_type": "code",
   "execution_count": null,
   "metadata": {
    "id": "2KOTY8q2Owck"
   },
   "outputs": [],
   "source": [
    "modelo.save(\"/content/drive/MyDrive/DEEP LEARNING - ESPECIALIZACION  -COURSERA/NLP/MHistoriaFreq.h5\")"
   ]
  },
  {
   "cell_type": "code",
   "execution_count": null,
   "metadata": {
    "id": "oMDqK3YV1rWk"
   },
   "outputs": [],
   "source": []
  }
 ],
 "metadata": {
  "colab": {
   "name": "ModeloTextos.ipynb",
   "provenance": []
  },
  "kernelspec": {
   "display_name": "Python 3",
   "language": "python",
   "name": "python3"
  },
  "language_info": {
   "codemirror_mode": {
    "name": "ipython",
    "version": 3
   },
   "file_extension": ".py",
   "mimetype": "text/x-python",
   "name": "python",
   "nbconvert_exporter": "python",
   "pygments_lexer": "ipython3",
   "version": "3.7.6"
  }
 },
 "nbformat": 4,
 "nbformat_minor": 1
}
