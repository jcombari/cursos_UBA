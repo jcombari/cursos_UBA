{
 "cells": [
  {
   "cell_type": "markdown",
   "metadata": {},
   "source": [
    "# Pruebas Filtro:\n",
    "\n",
    "- Lenguaje Filtro (Python)\n",
    "- Crear sistema de web scraping, y crear dataset de al menos 5 categorías , con datos obtenidos a       través del web scraping.\n",
    "- Las categorías deben de estar numéricamente balanceadas en cantidad.\n",
    "- Se debe crear un procedimiento automatizado de preprocesamiento .\n",
    "- Se debe desarrollar un modelo de redes neuronales artificiales con tensor flow/keras , para el       procesamiento de este dataset.\n",
    "- Se debe crear una api rest , que proporcione por medio de métodos http , un ingreso de datos y una   salida de la clasificación del mismo."
   ]
  },
  {
   "cell_type": "markdown",
   "metadata": {},
   "source": [
    "#### Actualizamos el inslalador pip e instalamos las biblotecas para hacer el scraping y acceder a la página a scrapear"
   ]
  },
  {
   "cell_type": "code",
   "execution_count": null,
   "metadata": {},
   "outputs": [],
   "source": [
    "# ! pip install --upgrade pip"
   ]
  },
  {
   "cell_type": "code",
   "execution_count": null,
   "metadata": {},
   "outputs": [],
   "source": [
    "# ! pip install beautifulsoup4"
   ]
  },
  {
   "cell_type": "code",
   "execution_count": null,
   "metadata": {},
   "outputs": [],
   "source": [
    "# ! pip install requests"
   ]
  },
  {
   "cell_type": "markdown",
   "metadata": {},
   "source": [
    "### Importamos las bibliotecas que vamos a necesitar"
   ]
  },
  {
   "cell_type": "code",
   "execution_count": 3,
   "metadata": {},
   "outputs": [],
   "source": [
    "from bs4 import BeautifulSoup # para web scraping\n",
    "import requests               # para acceder a la web"
   ]
  },
  {
   "cell_type": "markdown",
   "metadata": {},
   "source": [
    "#### Para lanzar el scraping necesitamos la dirección URL, el nombre para el archivo a guardar y la clase de la web a scrapear (es aprendizaje supervisado)   "
   ]
  },
  {
   "cell_type": "code",
   "execution_count": 4,
   "metadata": {},
   "outputs": [
    {
     "name": "stdout",
     "output_type": "stream",
     "text": [
      "Ingrese la URL: https://en.wikipedia.org/wiki/Alexander_the_Great\n",
      "Ingrese el nombre del archivo: Alexander_the_Great\n",
      "Ingrese la clase: 1\n",
      "url:  https://en.wikipedia.org/wiki/Alexander_the_Great archivo:  Alexander_the_Great clase:  1\n"
     ]
    }
   ],
   "source": [
    "url = input(\"Ingrese la URL: \")\n",
    "archivo = input(\"Ingrese el nombre del archivo: \")\n",
    "clase = input(\"Ingrese la clase: \")\n",
    "print(\"url: \", url,\"archivo: \", archivo, \"clase: \",clase)"
   ]
  },
  {
   "cell_type": "markdown",
   "metadata": {},
   "source": [
    "### Con el nombre de la url accedemos a la web con:\n",
    "\n",
    "```python\n",
    "requests.get(url)\n",
    "```"
   ]
  },
  {
   "cell_type": "code",
   "execution_count": 5,
   "metadata": {},
   "outputs": [],
   "source": [
    "url = \"https://en.wikipedia.org/wiki/Alexander_the_Great\"\n",
    "# Realizamos la petición a la web\n",
    "req = requests.get(url)"
   ]
  },
  {
   "cell_type": "markdown",
   "metadata": {},
   "source": [
    "# Para los interesados en el código Markdown, hemos agregado una práctica guiada"
   ]
  },
  {
   "cell_type": "markdown",
   "metadata": {},
   "source": [
    "### El objeto requests devuelve un status_code y un text"
   ]
  },
  {
   "cell_type": "code",
   "execution_count": 6,
   "metadata": {},
   "outputs": [
    {
     "name": "stdout",
     "output_type": "stream",
     "text": [
      "statusCode:  200\n"
     ]
    }
   ],
   "source": [
    "statusCode = req.status_code\n",
    "htmlText = req.text\n",
    "print(\"statusCode: \", statusCode)"
   ]
  },
  {
   "cell_type": "code",
   "execution_count": 7,
   "metadata": {},
   "outputs": [
    {
     "name": "stdout",
     "output_type": "stream",
     "text": [
      "Ok\n"
     ]
    }
   ],
   "source": [
    "# Comprobamos que la petición nos devuelve un Status Code = 200\n",
    "if statusCode != 200:\n",
    "    print(\"Error al solicitar la página\",\"statusCode: \", statusCode)\n",
    "else:\n",
    "    print(\"Ok\")"
   ]
  },
  {
   "cell_type": "code",
   "execution_count": 8,
   "metadata": {},
   "outputs": [],
   "source": [
    "if statusCode == 200:\n",
    "    # Pasamos el contenido HTML de la web a un objeto BeautifulSoup()\n",
    "    html = BeautifulSoup(req.text, \"html.parser\")"
   ]
  },
  {
   "cell_type": "code",
   "execution_count": null,
   "metadata": {},
   "outputs": [],
   "source": [
    "print(html.prettify())"
   ]
  },
  {
   "cell_type": "code",
   "execution_count": 10,
   "metadata": {},
   "outputs": [
    {
     "data": {
      "text/plain": [
       "<title>Alexander the Great - Wikipedia</title>"
      ]
     },
     "execution_count": 10,
     "metadata": {},
     "output_type": "execute_result"
    }
   ],
   "source": [
    "  html.title"
   ]
  },
  {
   "cell_type": "code",
   "execution_count": 11,
   "metadata": {},
   "outputs": [
    {
     "data": {
      "text/plain": [
       "'Alexander the Great - Wikipedia'"
      ]
     },
     "execution_count": 11,
     "metadata": {},
     "output_type": "execute_result"
    }
   ],
   "source": [
    "  html.title.string"
   ]
  },
  {
   "cell_type": "code",
   "execution_count": 12,
   "metadata": {},
   "outputs": [
    {
     "name": "stdout",
     "output_type": "stream",
     "text": [
      "Alexander the Great\n"
     ]
    }
   ],
   "source": [
    "div = html.find(id='firstHeading')\n",
    "print(div.text)"
   ]
  },
  {
   "cell_type": "code",
   "execution_count": 13,
   "metadata": {},
   "outputs": [
    {
     "data": {
      "text/plain": [
       "['Early life',\n",
       " \"Philip's heir\",\n",
       " 'King of Macedon',\n",
       " 'Conquest of the Persian Empire',\n",
       " 'Indian campaign',\n",
       " 'Last years in Persia',\n",
       " 'Death and succession',\n",
       " 'Character',\n",
       " 'Battle record',\n",
       " 'Legacy',\n",
       " 'Historiography',\n",
       " 'See also',\n",
       " 'Annotations',\n",
       " 'References',\n",
       " 'Sources',\n",
       " 'Further reading',\n",
       " 'External links']"
      ]
     },
     "execution_count": 13,
     "metadata": {},
     "output_type": "execute_result"
    }
   ],
   "source": [
    "# ejemplo de captura de subtitulos\n",
    "[item.get_text() for item in html.select(\"h2 .mw-headline\")]"
   ]
  },
  {
   "cell_type": "code",
   "execution_count": 14,
   "metadata": {},
   "outputs": [],
   "source": [
    "# captura de contenido\n",
    "paragraphs = html.select(\"p\")"
   ]
  },
  {
   "cell_type": "code",
   "execution_count": 15,
   "metadata": {},
   "outputs": [
    {
     "data": {
      "text/plain": [
       "bs4.element.ResultSet"
      ]
     },
     "execution_count": 15,
     "metadata": {},
     "output_type": "execute_result"
    }
   ],
   "source": [
    "type(paragraphs)"
   ]
  },
  {
   "cell_type": "code",
   "execution_count": 16,
   "metadata": {},
   "outputs": [
    {
     "data": {
      "text/plain": [
       "154"
      ]
     },
     "execution_count": 16,
     "metadata": {},
     "output_type": "execute_result"
    }
   ],
   "source": [
    "len(paragraphs)"
   ]
  },
  {
   "cell_type": "code",
   "execution_count": null,
   "metadata": {},
   "outputs": [],
   "source": [
    "for para in paragraphs:\n",
    "    print ()\n",
    "    print (\"Párrafo: \",cont)\n",
    "    print ()\n",
    "    print (para.text)\n",
    "    parrafo = open(  clase + \"/\" + archivo + str(cont),\"w\",encoding = \"utf-8\") \n",
    "    parrafo.write(para.text)\n",
    "    parrafo.close()"
   ]
  }
 ],
 "metadata": {
  "kernelspec": {
   "display_name": "Python 3",
   "language": "python",
   "name": "python3"
  },
  "language_info": {
   "codemirror_mode": {
    "name": "ipython",
    "version": 3
   },
   "file_extension": ".py",
   "mimetype": "text/x-python",
   "name": "python",
   "nbconvert_exporter": "python",
   "pygments_lexer": "ipython3",
   "version": "3.7.6"
  }
 },
 "nbformat": 4,
 "nbformat_minor": 4
}
